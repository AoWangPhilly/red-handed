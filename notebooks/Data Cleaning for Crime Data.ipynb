{
 "cells": [
  {
   "cell_type": "markdown",
   "id": "d89cb943",
   "metadata": {
    "pycharm": {
     "name": "#%% md\n"
    }
   },
   "source": [
    "## Socrata API \n",
    "\n",
    "Data Fields\n",
    "* https://dev.socrata.com/foundry/data.cityofnewyork.us/qgea-i56i\n",
    "\n",
    "After some experimentation with the Socrata API, I learned that it was too slow for my needs. The limitations are that the API only allows 1000 rows to be returned, the rest will have to be paginated. In 2017, there were around 460k rows, so that would mean around 460 API calls, which would have been too slow. So, I've decided to download the entire dataset beforehand and save it as a parquet file."
   ]
  },
  {
   "cell_type": "markdown",
   "id": "c4609c5e",
   "metadata": {},
   "source": [
    "# Data Cleaning for NYC Crime Data\n",
    "\n",
    "### DSCI 521\n",
    "\n",
    "### Author: Ao Wang\n",
    "\n",
    "<img src=\"https://loving-newyork.com/wp-content/uploads/2019/09/fun-things-to-do-in-nyc-at-night-160914155540002-1920x960.jpg\">"
   ]
  },
  {
   "cell_type": "markdown",
   "id": "9e732361",
   "metadata": {},
   "source": [
    "## Import Libraries"
   ]
  },
  {
   "cell_type": "code",
   "execution_count": 1,
   "id": "ebd2b912",
   "metadata": {
    "pycharm": {
     "is_executing": true,
     "name": "#%%\n"
    }
   },
   "outputs": [],
   "source": [
    "import warnings\n",
    "from os.path import join\n",
    "from typing import Tuple\n",
    "\n",
    "import pandas as pd\n",
    "import plotly.io as pio\n",
    "from pyspark import SparkConf\n",
    "from pyspark import SparkContext\n",
    "from pyspark.sql import SparkSession\n",
    "from pyspark.sql.dataframe import DataFrame as PySparkDataFrame\n",
    "from pyspark.sql.functions import (\n",
    "    count,\n",
    "    when,\n",
    "    lit,\n",
    "    isnan,\n",
    "    col,\n",
    "    concat_ws,\n",
    "    from_unixtime,\n",
    "    unix_timestamp,\n",
    "    year\n",
    ")\n",
    "from pyspark.sql.types import (\n",
    "    StructType,\n",
    "    StructField,\n",
    "    IntegerType,\n",
    "    DoubleType,\n",
    "    StringType\n",
    ")\n",
    "\n",
    "pio.renderers.default = \"iframe\"\n",
    "warnings.filterwarnings(\"ignore\")\n",
    "\n",
    "# from sodapy import Socrata\n",
    "\n",
    "% load_ext dotenv\n",
    "% dotenv"
   ]
  },
  {
   "cell_type": "code",
   "execution_count": 2,
   "id": "81c61df6",
   "metadata": {
    "pycharm": {
     "name": "#%%\n"
    }
   },
   "outputs": [],
   "source": [
    "# APP_TOKEN = os.getenv(\"APP_TOKEN\")\n",
    "# RESULTS_PER_PAGE = 1000\n",
    "# DATASET_ID = \"qgea-i56i\"\n",
    "# API_URL = f\"https://data.cityofnewyork.us/resource/{DATASET_ID}.csv\""
   ]
  },
  {
   "cell_type": "code",
   "execution_count": 3,
   "id": "e60b046e",
   "metadata": {
    "pycharm": {
     "name": "#%%\n"
    }
   },
   "outputs": [],
   "source": [
    "# client = Socrata(\"data.cityofnewyork.us\", APP_TOKEN)"
   ]
  },
  {
   "cell_type": "code",
   "execution_count": 4,
   "id": "08f2bed5",
   "metadata": {
    "pycharm": {
     "name": "#%%\n"
    }
   },
   "outputs": [],
   "source": [
    "# def get_crime_by_year(year: int = 2021):\n",
    "#     dfs = []\n",
    "#     offset = 0\n",
    "#     size = client.get(DATASET_ID, where=f\"date_extract_y(cmplnt_fr_dt)={year}\", select=\"count(*)\")\n",
    "#     count = int(size[0][\"count\"])\n",
    "#     while count > 0:\n",
    "#         print(count)\n",
    "#         df = pd.DataFrame.from_records(\n",
    "#             client.get(DATASET_ID, where=f\"date_extract_y(cmplnt_fr_dt)={year}\", offset=offset)\n",
    "#         )  \n",
    "#         offset += RESULTS_PER_PAGE if count >= RESULTS_PER_PAGE else RESULTS_PER_PAGE - count\n",
    "#         count -= RESULTS_PER_PAGE\n",
    "\n",
    "#         dfs.append(df)\n",
    "#     return pd.concat(dfs)"
   ]
  },
  {
   "cell_type": "code",
   "execution_count": 5,
   "id": "5f35a918",
   "metadata": {
    "pycharm": {
     "name": "#%%\n"
    },
    "scrolled": true
   },
   "outputs": [],
   "source": [
    "# df = get_crime_by_year()"
   ]
  },
  {
   "cell_type": "markdown",
   "id": "b745341e",
   "metadata": {
    "pycharm": {
     "name": "#%% md\n"
    }
   },
   "source": [
    "## Preprocessing\n",
    "I've decided to use PySpark for processing since the data is around 3 GBs. I will then create smaller datasets, such as focusing on a specific year, to allow for visualizations and further analysis."
   ]
  },
  {
   "cell_type": "code",
   "execution_count": 6,
   "id": "746522f6",
   "metadata": {
    "pycharm": {
     "name": "#%%\n"
    }
   },
   "outputs": [],
   "source": [
    "def initializeSpark() -> Tuple[SparkSession, SparkContext]:\n",
    "    \"\"\"Create a Spark Session for Streamlit app\"\"\"\n",
    "    conf = SparkConf().setAppName(\"crime-processor\").setMaster(\"local\")\n",
    "    spark = SparkSession.builder.config(conf=conf).getOrCreate()\n",
    "    return spark, spark.sparkContext"
   ]
  },
  {
   "cell_type": "code",
   "execution_count": 7,
   "id": "7b474954",
   "metadata": {
    "pycharm": {
     "name": "#%%\n"
    }
   },
   "outputs": [
    {
     "name": "stderr",
     "output_type": "stream",
     "text": [
      "Setting default log level to \"WARN\".\n",
      "To adjust logging level use sc.setLogLevel(newLevel). For SparkR, use setLogLevel(newLevel).\n"
     ]
    },
    {
     "name": "stdout",
     "output_type": "stream",
     "text": [
      "23/03/07 19:55:19 WARN NativeCodeLoader: Unable to load native-hadoop library for your platform... using builtin-java classes where applicable\n"
     ]
    }
   ],
   "source": [
    "spark, _ = initializeSpark()"
   ]
  },
  {
   "cell_type": "code",
   "execution_count": 8,
   "id": "1f9126e1",
   "metadata": {
    "pycharm": {
     "name": "#%%\n"
    }
   },
   "outputs": [],
   "source": [
    "def getShape(sdf: PySparkDataFrame) -> Tuple[int, int]:\n",
    "    return sdf.count(), len(sdf.columns)"
   ]
  },
  {
   "cell_type": "code",
   "execution_count": 9,
   "id": "19d6c8b5",
   "metadata": {
    "pycharm": {
     "name": "#%%\n"
    }
   },
   "outputs": [],
   "source": [
    "def readCrimeSDF(fname: str = join(\"..\", \"data\", \"NYPD_Complaint_Data_Historic.csv\")) -> PySparkDataFrame:\n",
    "    crimeSchema = StructType([\n",
    "        StructField(\"CMPLNT_NUM\", IntegerType()),\n",
    "        StructField(\"CMPLNT_FR_DT\", StringType()),\n",
    "        StructField(\"CMPLNT_FR_TM\", StringType()),\n",
    "        StructField(\"CMPLNT_TO_DT\", StringType()),\n",
    "        StructField(\"CMPLNT_TO_TM\", StringType()),\n",
    "        StructField(\"ADDR_PCT_CD\", IntegerType()),\n",
    "        StructField(\"RPT_DT\", StringType()),\n",
    "        StructField(\"KY_CD\", IntegerType()),\n",
    "        StructField(\"OFNS_DESC\", StringType()),\n",
    "        StructField(\"PD_CD\", IntegerType()),\n",
    "        StructField(\"PD_DESC\", StringType()),\n",
    "        StructField(\"CRM_ATPT_CPTD_CD\", StringType()),\n",
    "        StructField(\"LAW_CAT_CD\", StringType()),\n",
    "        StructField(\"BORO_NM\", StringType()),\n",
    "        StructField(\"LOC_OF_OCCUR_DESC\", StringType()),\n",
    "        StructField(\"PREM_TYP_DESC\", StringType()),\n",
    "        StructField(\"JURIS_DESC\", StringType()),\n",
    "        StructField(\"JURISDICTION_CODE\", IntegerType()),\n",
    "        StructField(\"PARKS_NM\", StringType()),\n",
    "        StructField(\"HADEVELOPT\", StringType()),\n",
    "        StructField(\"HOUSING_PSA\", StringType()),\n",
    "        StructField(\"X_COORD_CD\", IntegerType()),\n",
    "        StructField(\"Y_COORD_CD\", IntegerType()),\n",
    "        StructField(\"SUSP_AGE_GROUP\", StringType()),\n",
    "        StructField(\"SUSP_RACE\", StringType()),\n",
    "        StructField(\"SUSP_SEX\", StringType()),\n",
    "        StructField(\"TRANSIT_DISTRICT\", IntegerType()),\n",
    "        StructField(\"LATITUDE\", DoubleType()),\n",
    "        StructField(\"LONGITUDE\", DoubleType()),\n",
    "        StructField(\"LAT_LON\", StringType()),\n",
    "        StructField(\"PATROL_BORO\", StringType()),\n",
    "        StructField(\"STATION_NAME\", StringType()),\n",
    "        StructField(\"VIC_AGE_GROUP\", StringType()),\n",
    "        StructField(\"VIC_RACE\", StringType()),\n",
    "        StructField(\"VIC_SEX\", StringType())\n",
    "    ])\n",
    "    sdf = spark.read.csv(\n",
    "        path=fname,\n",
    "        header=\"true\",\n",
    "        schema=crimeSchema,\n",
    "        dateFormat=\"yyyy-MM-dd\"\n",
    "    )\n",
    "    return sdf"
   ]
  },
  {
   "cell_type": "code",
   "execution_count": 10,
   "id": "55e806e8",
   "metadata": {
    "pycharm": {
     "name": "#%%\n"
    }
   },
   "outputs": [],
   "source": [
    "sdf = readCrimeSDF()"
   ]
  },
  {
   "cell_type": "code",
   "execution_count": 11,
   "id": "b2d29ee2",
   "metadata": {
    "pycharm": {
     "name": "#%%\n"
    }
   },
   "outputs": [
    {
     "name": "stdout",
     "output_type": "stream",
     "text": [
      "23/03/07 19:55:21 WARN package: Truncated the string representation of a plan since it was too large. This behavior can be adjusted by setting 'spark.sql.debug.maxToStringFields'.\n"
     ]
    },
    {
     "data": {
      "text/html": [
       "<div>\n",
       "<style scoped>\n",
       "    .dataframe tbody tr th:only-of-type {\n",
       "        vertical-align: middle;\n",
       "    }\n",
       "\n",
       "    .dataframe tbody tr th {\n",
       "        vertical-align: top;\n",
       "    }\n",
       "\n",
       "    .dataframe thead th {\n",
       "        text-align: right;\n",
       "    }\n",
       "</style>\n",
       "<table border=\"1\" class=\"dataframe\">\n",
       "  <thead>\n",
       "    <tr style=\"text-align: right;\">\n",
       "      <th></th>\n",
       "      <th>CMPLNT_NUM</th>\n",
       "      <th>CMPLNT_FR_DT</th>\n",
       "      <th>CMPLNT_FR_TM</th>\n",
       "      <th>CMPLNT_TO_DT</th>\n",
       "      <th>CMPLNT_TO_TM</th>\n",
       "      <th>ADDR_PCT_CD</th>\n",
       "      <th>RPT_DT</th>\n",
       "      <th>KY_CD</th>\n",
       "      <th>OFNS_DESC</th>\n",
       "      <th>PD_CD</th>\n",
       "      <th>...</th>\n",
       "      <th>SUSP_SEX</th>\n",
       "      <th>TRANSIT_DISTRICT</th>\n",
       "      <th>LATITUDE</th>\n",
       "      <th>LONGITUDE</th>\n",
       "      <th>LAT_LON</th>\n",
       "      <th>PATROL_BORO</th>\n",
       "      <th>STATION_NAME</th>\n",
       "      <th>VIC_AGE_GROUP</th>\n",
       "      <th>VIC_RACE</th>\n",
       "      <th>VIC_SEX</th>\n",
       "    </tr>\n",
       "  </thead>\n",
       "  <tbody>\n",
       "    <tr>\n",
       "      <th>0</th>\n",
       "      <td>506547392</td>\n",
       "      <td>03/29/2018</td>\n",
       "      <td>20:30:00</td>\n",
       "      <td>None</td>\n",
       "      <td>None</td>\n",
       "      <td>32</td>\n",
       "      <td>03/30/2018</td>\n",
       "      <td>351</td>\n",
       "      <td>CRIMINAL MISCHIEF &amp; RELATED OF</td>\n",
       "      <td>254</td>\n",
       "      <td>...</td>\n",
       "      <td>None</td>\n",
       "      <td>NaN</td>\n",
       "      <td>40.810877</td>\n",
       "      <td>-73.941064</td>\n",
       "      <td>(40.810877241, -73.941064151)</td>\n",
       "      <td>PATROL BORO MAN NORTH</td>\n",
       "      <td>None</td>\n",
       "      <td>25-44</td>\n",
       "      <td>WHITE</td>\n",
       "      <td>F</td>\n",
       "    </tr>\n",
       "    <tr>\n",
       "      <th>1</th>\n",
       "      <td>629632833</td>\n",
       "      <td>02/06/2018</td>\n",
       "      <td>23:15:00</td>\n",
       "      <td>None</td>\n",
       "      <td>None</td>\n",
       "      <td>52</td>\n",
       "      <td>02/07/2018</td>\n",
       "      <td>341</td>\n",
       "      <td>PETIT LARCENY</td>\n",
       "      <td>333</td>\n",
       "      <td>...</td>\n",
       "      <td>F</td>\n",
       "      <td>NaN</td>\n",
       "      <td>40.873671</td>\n",
       "      <td>-73.908014</td>\n",
       "      <td>(40.873671035, -73.908013649)</td>\n",
       "      <td>PATROL BORO BRONX</td>\n",
       "      <td>None</td>\n",
       "      <td>UNKNOWN</td>\n",
       "      <td>UNKNOWN</td>\n",
       "      <td>D</td>\n",
       "    </tr>\n",
       "    <tr>\n",
       "      <th>2</th>\n",
       "      <td>787203902</td>\n",
       "      <td>11/21/2018</td>\n",
       "      <td>00:15:00</td>\n",
       "      <td>11/21/2018</td>\n",
       "      <td>00:20:00</td>\n",
       "      <td>75</td>\n",
       "      <td>11/21/2018</td>\n",
       "      <td>341</td>\n",
       "      <td>PETIT LARCENY</td>\n",
       "      <td>321</td>\n",
       "      <td>...</td>\n",
       "      <td>F</td>\n",
       "      <td>NaN</td>\n",
       "      <td>40.651782</td>\n",
       "      <td>-73.885457</td>\n",
       "      <td>(40.651782232, -73.885456761)</td>\n",
       "      <td>PATROL BORO BKLYN NORTH</td>\n",
       "      <td>None</td>\n",
       "      <td>UNKNOWN</td>\n",
       "      <td>UNKNOWN</td>\n",
       "      <td>D</td>\n",
       "    </tr>\n",
       "    <tr>\n",
       "      <th>3</th>\n",
       "      <td>280364018</td>\n",
       "      <td>06/09/2018</td>\n",
       "      <td>21:42:00</td>\n",
       "      <td>06/09/2018</td>\n",
       "      <td>21:43:00</td>\n",
       "      <td>10</td>\n",
       "      <td>06/10/2018</td>\n",
       "      <td>361</td>\n",
       "      <td>OFF. AGNST PUB ORD SENSBLTY &amp;</td>\n",
       "      <td>639</td>\n",
       "      <td>...</td>\n",
       "      <td>M</td>\n",
       "      <td>NaN</td>\n",
       "      <td>40.759310</td>\n",
       "      <td>-73.994706</td>\n",
       "      <td>(40.759310399, -73.994706072)</td>\n",
       "      <td>PATROL BORO MAN SOUTH</td>\n",
       "      <td>None</td>\n",
       "      <td>18-24</td>\n",
       "      <td>WHITE HISPANIC</td>\n",
       "      <td>F</td>\n",
       "    </tr>\n",
       "    <tr>\n",
       "      <th>4</th>\n",
       "      <td>985800320</td>\n",
       "      <td>11/10/2018</td>\n",
       "      <td>19:40:00</td>\n",
       "      <td>11/10/2018</td>\n",
       "      <td>19:45:00</td>\n",
       "      <td>19</td>\n",
       "      <td>11/10/2018</td>\n",
       "      <td>341</td>\n",
       "      <td>PETIT LARCENY</td>\n",
       "      <td>333</td>\n",
       "      <td>...</td>\n",
       "      <td>F</td>\n",
       "      <td>NaN</td>\n",
       "      <td>40.764536</td>\n",
       "      <td>-73.970728</td>\n",
       "      <td>(40.764535539, -73.970728388)</td>\n",
       "      <td>PATROL BORO MAN NORTH</td>\n",
       "      <td>None</td>\n",
       "      <td>UNKNOWN</td>\n",
       "      <td>UNKNOWN</td>\n",
       "      <td>D</td>\n",
       "    </tr>\n",
       "  </tbody>\n",
       "</table>\n",
       "<p>5 rows × 35 columns</p>\n",
       "</div>"
      ],
      "text/plain": [
       "   CMPLNT_NUM CMPLNT_FR_DT CMPLNT_FR_TM CMPLNT_TO_DT CMPLNT_TO_TM  \\\n",
       "0   506547392   03/29/2018     20:30:00         None         None   \n",
       "1   629632833   02/06/2018     23:15:00         None         None   \n",
       "2   787203902   11/21/2018     00:15:00   11/21/2018     00:20:00   \n",
       "3   280364018   06/09/2018     21:42:00   06/09/2018     21:43:00   \n",
       "4   985800320   11/10/2018     19:40:00   11/10/2018     19:45:00   \n",
       "\n",
       "   ADDR_PCT_CD      RPT_DT  KY_CD                       OFNS_DESC  PD_CD  ...  \\\n",
       "0           32  03/30/2018    351  CRIMINAL MISCHIEF & RELATED OF    254  ...   \n",
       "1           52  02/07/2018    341                   PETIT LARCENY    333  ...   \n",
       "2           75  11/21/2018    341                   PETIT LARCENY    321  ...   \n",
       "3           10  06/10/2018    361   OFF. AGNST PUB ORD SENSBLTY &    639  ...   \n",
       "4           19  11/10/2018    341                   PETIT LARCENY    333  ...   \n",
       "\n",
       "  SUSP_SEX TRANSIT_DISTRICT   LATITUDE  LONGITUDE  \\\n",
       "0     None              NaN  40.810877 -73.941064   \n",
       "1        F              NaN  40.873671 -73.908014   \n",
       "2        F              NaN  40.651782 -73.885457   \n",
       "3        M              NaN  40.759310 -73.994706   \n",
       "4        F              NaN  40.764536 -73.970728   \n",
       "\n",
       "                         LAT_LON              PATROL_BORO STATION_NAME  \\\n",
       "0  (40.810877241, -73.941064151)    PATROL BORO MAN NORTH         None   \n",
       "1  (40.873671035, -73.908013649)        PATROL BORO BRONX         None   \n",
       "2  (40.651782232, -73.885456761)  PATROL BORO BKLYN NORTH         None   \n",
       "3  (40.759310399, -73.994706072)    PATROL BORO MAN SOUTH         None   \n",
       "4  (40.764535539, -73.970728388)    PATROL BORO MAN NORTH         None   \n",
       "\n",
       "   VIC_AGE_GROUP        VIC_RACE VIC_SEX  \n",
       "0          25-44           WHITE       F  \n",
       "1        UNKNOWN         UNKNOWN       D  \n",
       "2        UNKNOWN         UNKNOWN       D  \n",
       "3          18-24  WHITE HISPANIC       F  \n",
       "4        UNKNOWN         UNKNOWN       D  \n",
       "\n",
       "[5 rows x 35 columns]"
      ]
     },
     "execution_count": 11,
     "metadata": {},
     "output_type": "execute_result"
    }
   ],
   "source": [
    "sdf.limit(5).toPandas()"
   ]
  },
  {
   "cell_type": "code",
   "execution_count": 12,
   "id": "df7716ec",
   "metadata": {
    "pycharm": {
     "name": "#%%\n"
    }
   },
   "outputs": [
    {
     "name": "stdout",
     "output_type": "stream",
     "text": [
      "root\n",
      " |-- CMPLNT_NUM: integer (nullable = true)\n",
      " |-- CMPLNT_FR_DT: string (nullable = true)\n",
      " |-- CMPLNT_FR_TM: string (nullable = true)\n",
      " |-- CMPLNT_TO_DT: string (nullable = true)\n",
      " |-- CMPLNT_TO_TM: string (nullable = true)\n",
      " |-- ADDR_PCT_CD: integer (nullable = true)\n",
      " |-- RPT_DT: string (nullable = true)\n",
      " |-- KY_CD: integer (nullable = true)\n",
      " |-- OFNS_DESC: string (nullable = true)\n",
      " |-- PD_CD: integer (nullable = true)\n",
      " |-- PD_DESC: string (nullable = true)\n",
      " |-- CRM_ATPT_CPTD_CD: string (nullable = true)\n",
      " |-- LAW_CAT_CD: string (nullable = true)\n",
      " |-- BORO_NM: string (nullable = true)\n",
      " |-- LOC_OF_OCCUR_DESC: string (nullable = true)\n",
      " |-- PREM_TYP_DESC: string (nullable = true)\n",
      " |-- JURIS_DESC: string (nullable = true)\n",
      " |-- JURISDICTION_CODE: integer (nullable = true)\n",
      " |-- PARKS_NM: string (nullable = true)\n",
      " |-- HADEVELOPT: string (nullable = true)\n",
      " |-- HOUSING_PSA: string (nullable = true)\n",
      " |-- X_COORD_CD: integer (nullable = true)\n",
      " |-- Y_COORD_CD: integer (nullable = true)\n",
      " |-- SUSP_AGE_GROUP: string (nullable = true)\n",
      " |-- SUSP_RACE: string (nullable = true)\n",
      " |-- SUSP_SEX: string (nullable = true)\n",
      " |-- TRANSIT_DISTRICT: integer (nullable = true)\n",
      " |-- LATITUDE: double (nullable = true)\n",
      " |-- LONGITUDE: double (nullable = true)\n",
      " |-- LAT_LON: string (nullable = true)\n",
      " |-- PATROL_BORO: string (nullable = true)\n",
      " |-- STATION_NAME: string (nullable = true)\n",
      " |-- VIC_AGE_GROUP: string (nullable = true)\n",
      " |-- VIC_RACE: string (nullable = true)\n",
      " |-- VIC_SEX: string (nullable = true)\n",
      "\n"
     ]
    }
   ],
   "source": [
    "sdf.printSchema()"
   ]
  },
  {
   "cell_type": "code",
   "execution_count": 13,
   "id": "87da0277",
   "metadata": {
    "pycharm": {
     "name": "#%%\n"
    }
   },
   "outputs": [
    {
     "name": "stderr",
     "output_type": "stream",
     "text": [
      "                                                                                \r"
     ]
    },
    {
     "data": {
      "text/plain": [
       "(7825499, 35)"
      ]
     },
     "execution_count": 13,
     "metadata": {},
     "output_type": "execute_result"
    }
   ],
   "source": [
    "getShape(sdf)"
   ]
  },
  {
   "cell_type": "markdown",
   "id": "8176bb0e",
   "metadata": {
    "pycharm": {
     "name": "#%% md\n"
    }
   },
   "source": [
    "## Missing Values\n",
    "Here we see a lot of missing values for the `TRANSIT_DISTRICT`, `STATION_NAME`, `HADEVELOPT`, and `PARKS_NM`. Therefore, we'll drop those columns since they wouldn't provide much analysis. Although some of the values are missing for `SUSP_AGE_GROUP`, `SUSP_SEX`, and `SUSP_RACE` it would be interesting to know the demographic of people who commit crimes or create a predictive model, like a Decision Tree that recieves a `LATITUDE`, `LONGITUDE`, and time and outputs the suspect's race, sex, and age group."
   ]
  },
  {
   "cell_type": "code",
   "execution_count": 14,
   "id": "801d5335",
   "metadata": {
    "pycharm": {
     "name": "#%%\n"
    }
   },
   "outputs": [],
   "source": [
    "def getPercentageOfMissingValues(sdf: PySparkDataFrame) -> pd.DataFrame:\n",
    "    amountMissing = sdf.select([(count(when(isnan(c) | col(c).isNull(), c)) / count(lit(1))).alias(c)\n",
    "                                for c in sdf.columns])\n",
    "    amountMissingDf = amountMissing.toPandas()\n",
    "    amountMissingDf = amountMissingDf.T.rename(columns={0: \"% Missing\"}).sort_values(by=\"% Missing\",\n",
    "                                                                                     ascending=False) * 100\n",
    "\n",
    "    return amountMissingDf"
   ]
  },
  {
   "cell_type": "code",
   "execution_count": 15,
   "id": "8f6708d8",
   "metadata": {
    "pycharm": {
     "name": "#%%\n"
    },
    "scrolled": true
   },
   "outputs": [
    {
     "name": "stderr",
     "output_type": "stream",
     "text": [
      "                                                                                \r"
     ]
    },
    {
     "data": {
      "text/html": [
       "<div>\n",
       "<style scoped>\n",
       "    .dataframe tbody tr th:only-of-type {\n",
       "        vertical-align: middle;\n",
       "    }\n",
       "\n",
       "    .dataframe tbody tr th {\n",
       "        vertical-align: top;\n",
       "    }\n",
       "\n",
       "    .dataframe thead th {\n",
       "        text-align: right;\n",
       "    }\n",
       "</style>\n",
       "<table border=\"1\" class=\"dataframe\">\n",
       "  <thead>\n",
       "    <tr style=\"text-align: right;\">\n",
       "      <th></th>\n",
       "      <th>% Missing</th>\n",
       "    </tr>\n",
       "  </thead>\n",
       "  <tbody>\n",
       "    <tr>\n",
       "      <th>TRANSIT_DISTRICT</th>\n",
       "      <td>97.795987</td>\n",
       "    </tr>\n",
       "    <tr>\n",
       "      <th>STATION_NAME</th>\n",
       "      <td>97.795987</td>\n",
       "    </tr>\n",
       "    <tr>\n",
       "      <th>HADEVELOPT</th>\n",
       "      <td>95.548028</td>\n",
       "    </tr>\n",
       "    <tr>\n",
       "      <th>SUSP_AGE_GROUP</th>\n",
       "      <td>62.403292</td>\n",
       "    </tr>\n",
       "    <tr>\n",
       "      <th>PARKS_NM</th>\n",
       "      <td>46.970283</td>\n",
       "    </tr>\n",
       "    <tr>\n",
       "      <th>SUSP_SEX</th>\n",
       "      <td>46.618650</td>\n",
       "    </tr>\n",
       "    <tr>\n",
       "      <th>SUSP_RACE</th>\n",
       "      <td>44.915065</td>\n",
       "    </tr>\n",
       "    <tr>\n",
       "      <th>CMPLNT_TO_DT</th>\n",
       "      <td>22.289876</td>\n",
       "    </tr>\n",
       "    <tr>\n",
       "      <th>CMPLNT_TO_TM</th>\n",
       "      <td>22.228346</td>\n",
       "    </tr>\n",
       "    <tr>\n",
       "      <th>HOUSING_PSA</th>\n",
       "      <td>21.191684</td>\n",
       "    </tr>\n",
       "    <tr>\n",
       "      <th>VIC_AGE_GROUP</th>\n",
       "      <td>20.937259</td>\n",
       "    </tr>\n",
       "    <tr>\n",
       "      <th>LOC_OF_OCCUR_DESC</th>\n",
       "      <td>20.676803</td>\n",
       "    </tr>\n",
       "    <tr>\n",
       "      <th>PREM_TYP_DESC</th>\n",
       "      <td>0.536899</td>\n",
       "    </tr>\n",
       "    <tr>\n",
       "      <th>OFNS_DESC</th>\n",
       "      <td>0.240649</td>\n",
       "    </tr>\n",
       "    <tr>\n",
       "      <th>Y_COORD_CD</th>\n",
       "      <td>0.221571</td>\n",
       "    </tr>\n",
       "    <tr>\n",
       "      <th>X_COORD_CD</th>\n",
       "      <td>0.221571</td>\n",
       "    </tr>\n",
       "    <tr>\n",
       "      <th>LAT_LON</th>\n",
       "      <td>0.221571</td>\n",
       "    </tr>\n",
       "    <tr>\n",
       "      <th>LATITUDE</th>\n",
       "      <td>0.221571</td>\n",
       "    </tr>\n",
       "    <tr>\n",
       "      <th>LONGITUDE</th>\n",
       "      <td>0.221571</td>\n",
       "    </tr>\n",
       "    <tr>\n",
       "      <th>BORO_NM</th>\n",
       "      <td>0.159479</td>\n",
       "    </tr>\n",
       "    <tr>\n",
       "      <th>PATROL_BORO</th>\n",
       "      <td>0.092237</td>\n",
       "    </tr>\n",
       "    <tr>\n",
       "      <th>PD_DESC</th>\n",
       "      <td>0.086397</td>\n",
       "    </tr>\n",
       "    <tr>\n",
       "      <th>PD_CD</th>\n",
       "      <td>0.086397</td>\n",
       "    </tr>\n",
       "    <tr>\n",
       "      <th>JURISDICTION_CODE</th>\n",
       "      <td>0.086397</td>\n",
       "    </tr>\n",
       "    <tr>\n",
       "      <th>ADDR_PCT_CD</th>\n",
       "      <td>0.027679</td>\n",
       "    </tr>\n",
       "    <tr>\n",
       "      <th>CMPLNT_FR_DT</th>\n",
       "      <td>0.008370</td>\n",
       "    </tr>\n",
       "    <tr>\n",
       "      <th>VIC_RACE</th>\n",
       "      <td>0.004984</td>\n",
       "    </tr>\n",
       "    <tr>\n",
       "      <th>VIC_SEX</th>\n",
       "      <td>0.003936</td>\n",
       "    </tr>\n",
       "    <tr>\n",
       "      <th>CRM_ATPT_CPTD_CD</th>\n",
       "      <td>0.002147</td>\n",
       "    </tr>\n",
       "    <tr>\n",
       "      <th>CMPLNT_FR_TM</th>\n",
       "      <td>0.000613</td>\n",
       "    </tr>\n",
       "    <tr>\n",
       "      <th>JURIS_DESC</th>\n",
       "      <td>0.000000</td>\n",
       "    </tr>\n",
       "    <tr>\n",
       "      <th>LAW_CAT_CD</th>\n",
       "      <td>0.000000</td>\n",
       "    </tr>\n",
       "    <tr>\n",
       "      <th>KY_CD</th>\n",
       "      <td>0.000000</td>\n",
       "    </tr>\n",
       "    <tr>\n",
       "      <th>RPT_DT</th>\n",
       "      <td>0.000000</td>\n",
       "    </tr>\n",
       "    <tr>\n",
       "      <th>CMPLNT_NUM</th>\n",
       "      <td>0.000000</td>\n",
       "    </tr>\n",
       "  </tbody>\n",
       "</table>\n",
       "</div>"
      ],
      "text/plain": [
       "                   % Missing\n",
       "TRANSIT_DISTRICT   97.795987\n",
       "STATION_NAME       97.795987\n",
       "HADEVELOPT         95.548028\n",
       "SUSP_AGE_GROUP     62.403292\n",
       "PARKS_NM           46.970283\n",
       "SUSP_SEX           46.618650\n",
       "SUSP_RACE          44.915065\n",
       "CMPLNT_TO_DT       22.289876\n",
       "CMPLNT_TO_TM       22.228346\n",
       "HOUSING_PSA        21.191684\n",
       "VIC_AGE_GROUP      20.937259\n",
       "LOC_OF_OCCUR_DESC  20.676803\n",
       "PREM_TYP_DESC       0.536899\n",
       "OFNS_DESC           0.240649\n",
       "Y_COORD_CD          0.221571\n",
       "X_COORD_CD          0.221571\n",
       "LAT_LON             0.221571\n",
       "LATITUDE            0.221571\n",
       "LONGITUDE           0.221571\n",
       "BORO_NM             0.159479\n",
       "PATROL_BORO         0.092237\n",
       "PD_DESC             0.086397\n",
       "PD_CD               0.086397\n",
       "JURISDICTION_CODE   0.086397\n",
       "ADDR_PCT_CD         0.027679\n",
       "CMPLNT_FR_DT        0.008370\n",
       "VIC_RACE            0.004984\n",
       "VIC_SEX             0.003936\n",
       "CRM_ATPT_CPTD_CD    0.002147\n",
       "CMPLNT_FR_TM        0.000613\n",
       "JURIS_DESC          0.000000\n",
       "LAW_CAT_CD          0.000000\n",
       "KY_CD               0.000000\n",
       "RPT_DT              0.000000\n",
       "CMPLNT_NUM          0.000000"
      ]
     },
     "execution_count": 15,
     "metadata": {},
     "output_type": "execute_result"
    }
   ],
   "source": [
    "getPercentageOfMissingValues(sdf)"
   ]
  },
  {
   "cell_type": "code",
   "execution_count": 16,
   "id": "c733154a",
   "metadata": {
    "pycharm": {
     "name": "#%%\n"
    }
   },
   "outputs": [],
   "source": [
    "def dropNulls(sdf: PySparkDataFrame) -> PySparkDataFrame:\n",
    "    sdf = sdf.drop(\n",
    "        \"TRANSIT_DISTRICT\",\n",
    "        \"STATION_NAME\",\n",
    "        \"HADEVELOPT\",\n",
    "        \"PARKS_NM\",\n",
    "        \"HOUSING_PSA\",\n",
    "        \"Y_COORD_CD\",\n",
    "        \"X_COORD_CD\",\n",
    "        \"LAT_LON\"\n",
    "    ).na.drop(subset=[\n",
    "        \"CMPLNT_FR_TM\",\n",
    "        \"CRM_ATPT_CPTD_CD\",\n",
    "        \"VIC_SEX\",\n",
    "        \"VIC_RACE\",\n",
    "        \"CMPLNT_FR_DT\",\n",
    "        \"ADDR_PCT_CD\",\n",
    "        \"PD_CD\",\n",
    "        \"JURISDICTION_CODE\",\n",
    "        \"PD_DESC\",\n",
    "        \"PATROL_BORO\",\n",
    "        \"BORO_NM\",\n",
    "        \"LATITUDE\",\n",
    "        \"LONGITUDE\",\n",
    "        \"OFNS_DESC\",\n",
    "        \"PREM_TYP_DESC\"\n",
    "    ])\n",
    "    return sdf"
   ]
  },
  {
   "cell_type": "code",
   "execution_count": 17,
   "id": "a0882d3f",
   "metadata": {
    "pycharm": {
     "name": "#%%\n"
    }
   },
   "outputs": [],
   "source": [
    "droppedNullsSDF = dropNulls(sdf)"
   ]
  },
  {
   "cell_type": "code",
   "execution_count": 18,
   "id": "070ade03",
   "metadata": {
    "pycharm": {
     "name": "#%%\n"
    }
   },
   "outputs": [
    {
     "name": "stderr",
     "output_type": "stream",
     "text": [
      "                                                                                \r"
     ]
    },
    {
     "data": {
      "text/plain": [
       "(7741826, 27)"
      ]
     },
     "execution_count": 18,
     "metadata": {},
     "output_type": "execute_result"
    }
   ],
   "source": [
    "getShape(droppedNullsSDF)"
   ]
  },
  {
   "cell_type": "markdown",
   "id": "bf7fe1b8",
   "metadata": {
    "pycharm": {
     "name": "#%% md\n"
    }
   },
   "source": [
    "## Date Types Conversion\n",
    "I want to combine the date and times of when the crimes occurred and ended. The columns, like `CMPLNT_TO_DT` and `CMPLNT_TO_TM` are currently strings, but I want to convert them into timestamps. Then we can use the PySpark functions to grab the year, month, day of month, or any granularity for analysis. Like figuring out which month, day, or time has the highest rate of crime."
   ]
  },
  {
   "cell_type": "code",
   "execution_count": 19,
   "id": "2865a4d8",
   "metadata": {
    "pycharm": {
     "name": "#%%\n"
    }
   },
   "outputs": [],
   "source": [
    "def convertToDateTime(sdf: PySparkDataFrame) -> PySparkDataFrame:\n",
    "    sdf = sdf.withColumn(\n",
    "        \"CMPLNT_TO\",\n",
    "        concat_ws(\" \", \"CMPLNT_TO_DT\", \"CMPLNT_TO_TM\").alias(\"CMPLNT_TO\")\n",
    "    )\n",
    "\n",
    "    sdf = sdf.withColumn(\n",
    "        \"CMPLNT_FR\",\n",
    "        concat_ws(\" \", \"CMPLNT_FR_DT\", \"CMPLNT_FR_TM\").alias(\"CMPLNT_FR\")\n",
    "    )\n",
    "\n",
    "    sdf = sdf.withColumn(\"CMPLNT_FR\", from_unixtime(unix_timestamp(\"CMPLNT_FR\", \"MM/dd/yyyy HH:mm:ss\")))\n",
    "\n",
    "    sdf = sdf.withColumn(\"CMPLNT_TO\", from_unixtime(unix_timestamp(\"CMPLNT_TO\", \"MM/dd/yyyy HH:mm:ss\")))\n",
    "    sdf = sdf.withColumn(\n",
    "        \"RPT_DT\", from_unixtime(unix_timestamp(\"RPT_DT\", \"MM/dd/yyyy\"))).drop(\"CMPLNT_FR_DT\", \"CMPLNT_FR_TM\",\n",
    "                                                                              \"CMPLNT_TO_DT\", \"CMPLNT_TO_TM\")\n",
    "\n",
    "    return sdf"
   ]
  },
  {
   "cell_type": "code",
   "execution_count": 20,
   "id": "e368b446",
   "metadata": {
    "pycharm": {
     "name": "#%%\n"
    }
   },
   "outputs": [],
   "source": [
    "convertedDateTimeSDF = convertToDateTime(droppedNullsSDF)"
   ]
  },
  {
   "cell_type": "code",
   "execution_count": 21,
   "id": "4729666f",
   "metadata": {
    "pycharm": {
     "name": "#%%\n"
    },
    "scrolled": false
   },
   "outputs": [
    {
     "name": "stdout",
     "output_type": "stream",
     "text": [
      "+-------------------+-------------------+-------------------+\n",
      "|          CMPLNT_FR|          CMPLNT_TO|             RPT_DT|\n",
      "+-------------------+-------------------+-------------------+\n",
      "|2018-03-29 20:30:00|               null|2018-03-30 00:00:00|\n",
      "|2018-02-06 23:15:00|               null|2018-02-07 00:00:00|\n",
      "|2018-11-21 00:15:00|2018-11-21 00:20:00|2018-11-21 00:00:00|\n",
      "|2018-06-09 21:42:00|2018-06-09 21:43:00|2018-06-10 00:00:00|\n",
      "|2018-11-10 19:40:00|2018-11-10 19:45:00|2018-11-10 00:00:00|\n",
      "|2018-03-12 11:48:00|               null|2018-03-12 00:00:00|\n",
      "|2013-04-07 16:00:00|               null|2013-04-07 00:00:00|\n",
      "|2018-09-12 18:30:00|2018-09-12 18:35:00|2018-09-12 00:00:00|\n",
      "|2018-01-16 14:30:00|2018-01-16 15:00:00|2018-01-16 00:00:00|\n",
      "|2018-08-04 22:15:00|               null|2018-08-04 00:00:00|\n",
      "|2018-09-26 18:20:00|2018-09-26 18:24:00|2018-09-26 00:00:00|\n",
      "|2018-02-11 17:30:00|2018-02-12 06:00:00|2018-02-12 00:00:00|\n",
      "|2018-11-04 11:15:00|               null|2018-11-04 00:00:00|\n",
      "|2017-12-22 00:15:00|               null|2018-01-05 00:00:00|\n",
      "|2018-12-01 13:00:00|               null|2018-12-01 00:00:00|\n",
      "|2018-11-07 20:24:00|               null|2018-11-07 00:00:00|\n",
      "|2018-05-23 23:30:00|2018-05-24 02:00:00|2018-05-24 00:00:00|\n",
      "|2018-02-12 08:00:00|2018-02-12 12:00:00|2018-02-12 00:00:00|\n",
      "|2018-07-31 15:00:00|2018-07-31 16:00:00|2018-07-31 00:00:00|\n",
      "|2018-02-24 18:24:00|2018-02-24 19:39:00|2018-02-24 00:00:00|\n",
      "+-------------------+-------------------+-------------------+\n",
      "only showing top 20 rows\n",
      "\n"
     ]
    }
   ],
   "source": [
    "convertedDateTimeSDF.select([\"CMPLNT_FR\", \"CMPLNT_TO\", \"RPT_DT\"]).show()"
   ]
  },
  {
   "cell_type": "markdown",
   "id": "2a506bfd",
   "metadata": {
    "pycharm": {
     "name": "#%% md\n"
    }
   },
   "source": [
    "## Change the Offense Descriptions\n",
    "The offense descriptions for crimes isn't intuitive, like `ENDAN WELFARE INCOMP` would be `ENDANGERING WELFARE OF INCOMPETENT`. So I created a mapping to make it more obvious. Additionally, I removed the numbers from the offense, like `HARRASSMENT 2` which means to the second degree because it's also not intuitive."
   ]
  },
  {
   "cell_type": "code",
   "execution_count": 22,
   "id": "87d69d63",
   "metadata": {
    "pycharm": {
     "name": "#%%\n"
    },
    "scrolled": true
   },
   "outputs": [
    {
     "name": "stdout",
     "output_type": "stream",
     "text": [
      "+--------------------+--------------------+\n",
      "|           OFNS_DESC|             PD_DESC|\n",
      "+--------------------+--------------------+\n",
      "|CRIMINAL MISCHIEF...|MISCHIEF, CRIMINA...|\n",
      "|       PETIT LARCENY|LARCENY,PETIT FRO...|\n",
      "|       PETIT LARCENY|LARCENY,PETIT FRO...|\n",
      "|OFF. AGNST PUB OR...|AGGRAVATED HARASS...|\n",
      "|       PETIT LARCENY|LARCENY,PETIT FRO...|\n",
      "|             FORGERY|FORGERY,ETC.,UNCL...|\n",
      "|   DANGEROUS WEAPONS|WEAPONS POSSESSION 3|\n",
      "|CRIMINAL MISCHIEF...|MISCHIEF,CRIMINAL...|\n",
      "|ASSAULT 3 & RELAT...|           ASSAULT 3|\n",
      "|ASSAULT 3 & RELAT...|           ASSAULT 3|\n",
      "|      FELONY ASSAULT|ASSAULT 2,1,UNCLA...|\n",
      "|CRIMINAL MISCHIEF...|MISCHIEF, CRIMINA...|\n",
      "|      FELONY ASSAULT|ASSAULT 2,1,UNCLA...|\n",
      "|       GRAND LARCENY|LARCENY,GRAND FRO...|\n",
      "|OFFENSES AGAINST ...|PUBLIC ADMINISTAT...|\n",
      "|CRIMINAL MISCHIEF...|CRIMINAL MISCHIEF...|\n",
      "|CRIMINAL MISCHIEF...|MISCHIEF, CRIMINA...|\n",
      "|       GRAND LARCENY|LARCENY,GRAND FRO...|\n",
      "|CRIMINAL MISCHIEF...|MISCHIEF, CRIMINA...|\n",
      "|       PETIT LARCENY|LARCENY,PETIT FRO...|\n",
      "+--------------------+--------------------+\n",
      "\n"
     ]
    }
   ],
   "source": [
    "convertedDateTimeSDF.select([\"OFNS_DESC\", \"PD_DESC\"]).limit(20).show()"
   ]
  },
  {
   "cell_type": "code",
   "execution_count": 23,
   "id": "11e96b58",
   "metadata": {
    "pycharm": {
     "name": "#%%\n"
    }
   },
   "outputs": [],
   "source": [
    "def fixOffenseDescription(sdf: PySparkDataFrame) -> PySparkDataFrame:\n",
    "    offenseDescriptionMapping = {\n",
    "        \"OTHER OFFENSES RELATED TO THEF\": \"OTHER OFFENSES RELATED TO THEFT\",\n",
    "        \"OFF. AGNST PUB ORD SENSBLTY &\": \"OFFENSES AGAINST PUBLIC ORDER/ADMINISTRATION\",\n",
    "        \"CRIMINAL MISCHIEF & RELATED OF\": \"CRIMINAL MISCHIEF\",\n",
    "        \"LOITERING/GAMBLING (CARDS, DIC\": \"GAMBLING\",\n",
    "        \"HARRASSMENT 2\": \"HARRASSMENT\",\n",
    "        \"ASSAULT 3 & RELATED OFFENSES\": \"ASSAULT & RELATED OFFENSES\",\n",
    "        \"ESCAPE 3\": \"ESCAPE\",\n",
    "        \"OTHER STATE LAWS (NON PENAL LA\": \"OTHER STATE LAWS (NON PENAL LAW)\",\n",
    "        \"UNLAWFUL POSS. WEAP. ON SCHOOL\": \"UNLAWFUL POSSESSION OF WEAPON ON SCHOOL\",\n",
    "        \"OFFENSES AGAINST PUBLIC ADMINI\": \"OFFENSES AGAINST PUBLIC ADMINISTRATION\",\n",
    "        \"AGRICULTURE & MRKTS LAW-UNCLASSIFIED\": \"AGRICULTURE & MARKETS LAW\",\n",
    "        \"DISRUPTION OF A RELIGIOUS SERV\": \"DISRUPTION OF A RELIGIOUS SERVICE\",\n",
    "        \"OFFENSES AGAINST MARRIAGE UNCL\": \"OFFENSES AGAINST MARRIAGE\",\n",
    "        \"HOMICIDE-NEGLIGENT,UNCLASSIFIE\": \"HOMICIDE-NEGLIGENT\",\n",
    "        \"ENDAN WELFARE INCOMP\": \"ENDANGERING WELFARE OF INCOMPETENT\"\n",
    "    }\n",
    "    return sdf.na.replace(offenseDescriptionMapping, \"OFNS_DESC\")"
   ]
  },
  {
   "cell_type": "code",
   "execution_count": 24,
   "id": "26db0618",
   "metadata": {
    "pycharm": {
     "name": "#%%\n"
    }
   },
   "outputs": [],
   "source": [
    "finalSDF = fixOffenseDescription(convertedDateTimeSDF)"
   ]
  },
  {
   "cell_type": "code",
   "execution_count": 25,
   "id": "1429c238",
   "metadata": {
    "pycharm": {
     "name": "#%%\n"
    },
    "scrolled": true
   },
   "outputs": [
    {
     "name": "stdout",
     "output_type": "stream",
     "text": [
      "+--------------------+--------------------+\n",
      "|           OFNS_DESC|             PD_DESC|\n",
      "+--------------------+--------------------+\n",
      "|   CRIMINAL MISCHIEF|MISCHIEF, CRIMINA...|\n",
      "|       PETIT LARCENY|LARCENY,PETIT FRO...|\n",
      "|       PETIT LARCENY|LARCENY,PETIT FRO...|\n",
      "|OFFENSES AGAINST ...|AGGRAVATED HARASS...|\n",
      "|       PETIT LARCENY|LARCENY,PETIT FRO...|\n",
      "|             FORGERY|FORGERY,ETC.,UNCL...|\n",
      "|   DANGEROUS WEAPONS|WEAPONS POSSESSION 3|\n",
      "|   CRIMINAL MISCHIEF|MISCHIEF,CRIMINAL...|\n",
      "|ASSAULT & RELATED...|           ASSAULT 3|\n",
      "|ASSAULT & RELATED...|           ASSAULT 3|\n",
      "|      FELONY ASSAULT|ASSAULT 2,1,UNCLA...|\n",
      "|   CRIMINAL MISCHIEF|MISCHIEF, CRIMINA...|\n",
      "|      FELONY ASSAULT|ASSAULT 2,1,UNCLA...|\n",
      "|       GRAND LARCENY|LARCENY,GRAND FRO...|\n",
      "|OFFENSES AGAINST ...|PUBLIC ADMINISTAT...|\n",
      "+--------------------+--------------------+\n",
      "\n"
     ]
    }
   ],
   "source": [
    "finalSDF.select([\"OFNS_DESC\", \"PD_DESC\"]).limit(15).show()"
   ]
  },
  {
   "cell_type": "markdown",
   "id": "042598f3",
   "metadata": {
    "pycharm": {
     "name": "#%% md\n"
    }
   },
   "source": [
    "## Save Spark DataFrame as Parquet \n",
    "* While querying columnar storage, it skips the nonrelevant data very quickly, making faster query execution. As a result aggregation queries consume less time compared to row-oriented databases.\n",
    "* Pyspark SQL provides support for both reading and writing Parquet files that automatically capture the schema of the original data, It also reduces data storage by 75% on average. Pyspark by default supports Parquet in its library hence we don’t need to add any dependency libraries.\n",
    "\n"
   ]
  },
  {
   "cell_type": "code",
   "execution_count": 26,
   "id": "4b39f9b6",
   "metadata": {
    "pycharm": {
     "name": "#%%\n"
    }
   },
   "outputs": [
    {
     "name": "stderr",
     "output_type": "stream",
     "text": [
      "                                                                                \r"
     ]
    }
   ],
   "source": [
    "fname = join(\"..\", \"data\", \"NYPD_Complaint_Data_Historic.parquet\")\n",
    "finalSDF.filter(year(\"CMPLNT_FR\") >= 2006).write.mode(\"overwrite\").parquet(fname)"
   ]
  },
  {
   "cell_type": "code",
   "execution_count": null,
   "id": "3bc2c78c",
   "metadata": {
    "pycharm": {
     "name": "#%%\n"
    }
   },
   "outputs": [],
   "source": []
  }
 ],
 "metadata": {
  "kernelspec": {
   "display_name": "venv",
   "language": "python",
   "name": "venv"
  },
  "language_info": {
   "codemirror_mode": {
    "name": "ipython",
    "version": 3
   },
   "file_extension": ".py",
   "mimetype": "text/x-python",
   "name": "python",
   "nbconvert_exporter": "python",
   "pygments_lexer": "ipython3",
   "version": "3.9.12"
  }
 },
 "nbformat": 4,
 "nbformat_minor": 5
}
