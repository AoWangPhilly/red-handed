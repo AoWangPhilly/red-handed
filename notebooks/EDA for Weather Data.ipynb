{
 "cells": [
  {
   "cell_type": "markdown",
   "id": "02a39163",
   "metadata": {},
   "source": [
    "# NYC Weather Data\n",
    "The NYC weather data is from the National Centers for Environmental Information, https://www.ncdc.noaa.gov/cdo-web/datasets/GHCND/stations/GHCND:USW00094728/detail. The data is from the weather station at `NY CITY CENTRAL PARK, NY US` from `1869-01-01` to `2023-02-27`. And from the dates we need weather data, from 2006-01-01 to 2021-12-31, we see that are no null values. So there's minimal processing besides converting the date string to datetime, filtering by a time range, and selecting the columns we want.\n",
    "\n",
    "## Data Dictionary\n",
    "The data dictionary is available in the link above under the `Available Data Types` in `Station Data Inventory, Access & History`. It will show that `TAVG`, `TMIN`, `TMAX` is average, minimum, and maximum temperature respectively.\n",
    "\n",
    "## Purpose\n",
    "The only columns I'll use for in weather data is average temperature, minimum temperature, maximum temperature, precipitation, and snow fall. I think these columns will be meaningful to see the correlation between crime rates in NYC and the variables."
   ]
  },
  {
   "cell_type": "code",
   "execution_count": 23,
   "id": "da8d4115",
   "metadata": {},
   "outputs": [],
   "source": [
    "from os.path import join\n",
    "\n",
    "import pandas as pd\n",
    "import plotly.graph_objects as go\n",
    "import plotly.io as pio\n",
    "import plotly.express as px\n",
    "from plotly.subplots import make_subplots\n",
    "\n",
    "from pyspark.sql.dataframe import DataFrame as PySparkDataFrame\n",
    "\n",
    "from pyspark import SparkConf\n",
    "from pyspark.sql import SparkSession\n",
    "from pyspark.sql.functions import (\n",
    "    count, \n",
    "    when, \n",
    "    lit,\n",
    "    isnan,\n",
    "    col,\n",
    "    concat_ws,\n",
    "    from_unixtime,\n",
    "    unix_timestamp,\n",
    "    to_timestamp,\n",
    "    year, \n",
    "    month,\n",
    "    dayofmonth,\n",
    "    hour\n",
    ")\n",
    "\n",
    "import statsmodels.formula.api as smf\n",
    "\n",
    "pio.renderers.default = \"iframe\""
   ]
  },
  {
   "cell_type": "code",
   "execution_count": 2,
   "id": "c2ed94b6",
   "metadata": {},
   "outputs": [],
   "source": [
    "def read_weather_data(fname: str=join(\"..\", \"data\", \"USW00094728.csv\")) -> pd.DataFrame:\n",
    "    df = pd.read_csv(fname, parse_dates=[\"DATE\"])\n",
    "    subset_df = df[[\"DATE\", \"TAVG\", \"TMAX\", \"TMIN\", \"PRCP\", \"SNOW\"]]\n",
    "    timerange = subset_df.query(\"DATE.between('2006-01-01', '2021-12-31')\")\n",
    "    return timerange.reset_index(drop=True)"
   ]
  },
  {
   "cell_type": "code",
   "execution_count": 3,
   "id": "3d94fd8c",
   "metadata": {
    "scrolled": false
   },
   "outputs": [
    {
     "data": {
      "text/html": [
       "<div>\n",
       "<style scoped>\n",
       "    .dataframe tbody tr th:only-of-type {\n",
       "        vertical-align: middle;\n",
       "    }\n",
       "\n",
       "    .dataframe tbody tr th {\n",
       "        vertical-align: top;\n",
       "    }\n",
       "\n",
       "    .dataframe thead th {\n",
       "        text-align: right;\n",
       "    }\n",
       "</style>\n",
       "<table border=\"1\" class=\"dataframe\">\n",
       "  <thead>\n",
       "    <tr style=\"text-align: right;\">\n",
       "      <th></th>\n",
       "      <th>DATE</th>\n",
       "      <th>TAVG</th>\n",
       "      <th>TMAX</th>\n",
       "      <th>TMIN</th>\n",
       "      <th>PRCP</th>\n",
       "      <th>SNOW</th>\n",
       "    </tr>\n",
       "  </thead>\n",
       "  <tbody>\n",
       "    <tr>\n",
       "      <th>0</th>\n",
       "      <td>2006-01-01</td>\n",
       "      <td>4.93</td>\n",
       "      <td>8.64</td>\n",
       "      <td>1.23</td>\n",
       "      <td>126.8</td>\n",
       "      <td>51.0</td>\n",
       "    </tr>\n",
       "    <tr>\n",
       "      <th>1</th>\n",
       "      <td>2006-02-01</td>\n",
       "      <td>2.07</td>\n",
       "      <td>5.78</td>\n",
       "      <td>-1.63</td>\n",
       "      <td>73.1</td>\n",
       "      <td>683.0</td>\n",
       "    </tr>\n",
       "    <tr>\n",
       "      <th>2</th>\n",
       "      <td>2006-03-01</td>\n",
       "      <td>6.15</td>\n",
       "      <td>10.33</td>\n",
       "      <td>1.98</td>\n",
       "      <td>20.3</td>\n",
       "      <td>33.0</td>\n",
       "    </tr>\n",
       "    <tr>\n",
       "      <th>3</th>\n",
       "      <td>2006-04-01</td>\n",
       "      <td>13.15</td>\n",
       "      <td>18.48</td>\n",
       "      <td>7.82</td>\n",
       "      <td>141.2</td>\n",
       "      <td>3.0</td>\n",
       "    </tr>\n",
       "    <tr>\n",
       "      <th>4</th>\n",
       "      <td>2006-05-01</td>\n",
       "      <td>17.27</td>\n",
       "      <td>21.97</td>\n",
       "      <td>12.57</td>\n",
       "      <td>117.5</td>\n",
       "      <td>0.0</td>\n",
       "    </tr>\n",
       "    <tr>\n",
       "      <th>...</th>\n",
       "      <td>...</td>\n",
       "      <td>...</td>\n",
       "      <td>...</td>\n",
       "      <td>...</td>\n",
       "      <td>...</td>\n",
       "      <td>...</td>\n",
       "    </tr>\n",
       "    <tr>\n",
       "      <th>187</th>\n",
       "      <td>2021-08-01</td>\n",
       "      <td>25.30</td>\n",
       "      <td>28.81</td>\n",
       "      <td>21.80</td>\n",
       "      <td>262.1</td>\n",
       "      <td>0.0</td>\n",
       "    </tr>\n",
       "    <tr>\n",
       "      <th>188</th>\n",
       "      <td>2021-09-01</td>\n",
       "      <td>21.27</td>\n",
       "      <td>24.79</td>\n",
       "      <td>17.76</td>\n",
       "      <td>254.8</td>\n",
       "      <td>0.0</td>\n",
       "    </tr>\n",
       "    <tr>\n",
       "      <th>189</th>\n",
       "      <td>2021-10-01</td>\n",
       "      <td>16.67</td>\n",
       "      <td>19.93</td>\n",
       "      <td>13.41</td>\n",
       "      <td>133.7</td>\n",
       "      <td>0.0</td>\n",
       "    </tr>\n",
       "    <tr>\n",
       "      <th>190</th>\n",
       "      <td>2021-11-01</td>\n",
       "      <td>7.91</td>\n",
       "      <td>11.54</td>\n",
       "      <td>4.29</td>\n",
       "      <td>28.6</td>\n",
       "      <td>0.0</td>\n",
       "    </tr>\n",
       "    <tr>\n",
       "      <th>191</th>\n",
       "      <td>2021-12-01</td>\n",
       "      <td>6.54</td>\n",
       "      <td>9.59</td>\n",
       "      <td>3.49</td>\n",
       "      <td>35.4</td>\n",
       "      <td>5.0</td>\n",
       "    </tr>\n",
       "  </tbody>\n",
       "</table>\n",
       "<p>192 rows × 6 columns</p>\n",
       "</div>"
      ],
      "text/plain": [
       "          DATE   TAVG   TMAX   TMIN   PRCP   SNOW\n",
       "0   2006-01-01   4.93   8.64   1.23  126.8   51.0\n",
       "1   2006-02-01   2.07   5.78  -1.63   73.1  683.0\n",
       "2   2006-03-01   6.15  10.33   1.98   20.3   33.0\n",
       "3   2006-04-01  13.15  18.48   7.82  141.2    3.0\n",
       "4   2006-05-01  17.27  21.97  12.57  117.5    0.0\n",
       "..         ...    ...    ...    ...    ...    ...\n",
       "187 2021-08-01  25.30  28.81  21.80  262.1    0.0\n",
       "188 2021-09-01  21.27  24.79  17.76  254.8    0.0\n",
       "189 2021-10-01  16.67  19.93  13.41  133.7    0.0\n",
       "190 2021-11-01   7.91  11.54   4.29   28.6    0.0\n",
       "191 2021-12-01   6.54   9.59   3.49   35.4    5.0\n",
       "\n",
       "[192 rows x 6 columns]"
      ]
     },
     "execution_count": 3,
     "metadata": {},
     "output_type": "execute_result"
    }
   ],
   "source": [
    "df = read_weather_data()\n",
    "df"
   ]
  },
  {
   "cell_type": "code",
   "execution_count": 4,
   "id": "57d2cf52",
   "metadata": {},
   "outputs": [
    {
     "name": "stdout",
     "output_type": "stream",
     "text": [
      "<class 'pandas.core.frame.DataFrame'>\n",
      "RangeIndex: 192 entries, 0 to 191\n",
      "Data columns (total 6 columns):\n",
      " #   Column  Non-Null Count  Dtype         \n",
      "---  ------  --------------  -----         \n",
      " 0   DATE    192 non-null    datetime64[ns]\n",
      " 1   TAVG    192 non-null    float64       \n",
      " 2   TMAX    192 non-null    float64       \n",
      " 3   TMIN    192 non-null    float64       \n",
      " 4   PRCP    192 non-null    float64       \n",
      " 5   SNOW    192 non-null    float64       \n",
      "dtypes: datetime64[ns](1), float64(5)\n",
      "memory usage: 9.1 KB\n"
     ]
    }
   ],
   "source": [
    "df.info()"
   ]
  },
  {
   "cell_type": "code",
   "execution_count": 5,
   "id": "e20348ed",
   "metadata": {},
   "outputs": [
    {
     "data": {
      "text/html": [
       "<div>\n",
       "<style scoped>\n",
       "    .dataframe tbody tr th:only-of-type {\n",
       "        vertical-align: middle;\n",
       "    }\n",
       "\n",
       "    .dataframe tbody tr th {\n",
       "        vertical-align: top;\n",
       "    }\n",
       "\n",
       "    .dataframe thead th {\n",
       "        text-align: right;\n",
       "    }\n",
       "</style>\n",
       "<table border=\"1\" class=\"dataframe\">\n",
       "  <thead>\n",
       "    <tr style=\"text-align: right;\">\n",
       "      <th></th>\n",
       "      <th>TAVG</th>\n",
       "      <th>TMAX</th>\n",
       "      <th>TMIN</th>\n",
       "      <th>PRCP</th>\n",
       "      <th>SNOW</th>\n",
       "    </tr>\n",
       "  </thead>\n",
       "  <tbody>\n",
       "    <tr>\n",
       "      <th>count</th>\n",
       "      <td>192.000000</td>\n",
       "      <td>192.000000</td>\n",
       "      <td>192.000000</td>\n",
       "      <td>192.000000</td>\n",
       "      <td>192.000000</td>\n",
       "    </tr>\n",
       "    <tr>\n",
       "      <th>mean</th>\n",
       "      <td>13.373802</td>\n",
       "      <td>17.307656</td>\n",
       "      <td>9.439583</td>\n",
       "      <td>111.375521</td>\n",
       "      <td>66.770833</td>\n",
       "    </tr>\n",
       "    <tr>\n",
       "      <th>std</th>\n",
       "      <td>8.664113</td>\n",
       "      <td>8.979786</td>\n",
       "      <td>8.384961</td>\n",
       "      <td>61.889651</td>\n",
       "      <td>161.756101</td>\n",
       "    </tr>\n",
       "    <tr>\n",
       "      <th>min</th>\n",
       "      <td>-4.410000</td>\n",
       "      <td>0.080000</td>\n",
       "      <td>-8.900000</td>\n",
       "      <td>9.200000</td>\n",
       "      <td>0.000000</td>\n",
       "    </tr>\n",
       "    <tr>\n",
       "      <th>25%</th>\n",
       "      <td>5.407500</td>\n",
       "      <td>9.287500</td>\n",
       "      <td>1.572500</td>\n",
       "      <td>71.000000</td>\n",
       "      <td>0.000000</td>\n",
       "    </tr>\n",
       "    <tr>\n",
       "      <th>50%</th>\n",
       "      <td>13.310000</td>\n",
       "      <td>17.595000</td>\n",
       "      <td>9.225000</td>\n",
       "      <td>102.750000</td>\n",
       "      <td>0.000000</td>\n",
       "    </tr>\n",
       "    <tr>\n",
       "      <th>75%</th>\n",
       "      <td>21.670000</td>\n",
       "      <td>25.862500</td>\n",
       "      <td>17.615000</td>\n",
       "      <td>138.675000</td>\n",
       "      <td>34.250000</td>\n",
       "    </tr>\n",
       "    <tr>\n",
       "      <th>max</th>\n",
       "      <td>27.410000</td>\n",
       "      <td>32.270000</td>\n",
       "      <td>22.970000</td>\n",
       "      <td>481.300000</td>\n",
       "      <td>937.000000</td>\n",
       "    </tr>\n",
       "  </tbody>\n",
       "</table>\n",
       "</div>"
      ],
      "text/plain": [
       "             TAVG        TMAX        TMIN        PRCP        SNOW\n",
       "count  192.000000  192.000000  192.000000  192.000000  192.000000\n",
       "mean    13.373802   17.307656    9.439583  111.375521   66.770833\n",
       "std      8.664113    8.979786    8.384961   61.889651  161.756101\n",
       "min     -4.410000    0.080000   -8.900000    9.200000    0.000000\n",
       "25%      5.407500    9.287500    1.572500   71.000000    0.000000\n",
       "50%     13.310000   17.595000    9.225000  102.750000    0.000000\n",
       "75%     21.670000   25.862500   17.615000  138.675000   34.250000\n",
       "max     27.410000   32.270000   22.970000  481.300000  937.000000"
      ]
     },
     "execution_count": 5,
     "metadata": {},
     "output_type": "execute_result"
    }
   ],
   "source": [
    "df.describe()"
   ]
  },
  {
   "cell_type": "code",
   "execution_count": 6,
   "id": "15803717",
   "metadata": {},
   "outputs": [
    {
     "data": {
      "text/plain": [
       "DATE    False\n",
       "TAVG    False\n",
       "TMAX    False\n",
       "TMIN    False\n",
       "PRCP    False\n",
       "SNOW    False\n",
       "dtype: bool"
      ]
     },
     "execution_count": 6,
     "metadata": {},
     "output_type": "execute_result"
    }
   ],
   "source": [
    "df.isna().any()"
   ]
  },
  {
   "cell_type": "markdown",
   "id": "b958e781",
   "metadata": {},
   "source": [
    "## Crime Data"
   ]
  },
  {
   "cell_type": "code",
   "execution_count": 7,
   "id": "771ca0c7",
   "metadata": {},
   "outputs": [],
   "source": [
    "def initializeSpark() -> SparkSession:\n",
    "    \"\"\"Create a Spark Session for Streamlit app\"\"\"\n",
    "    conf = SparkConf().setAppName(\"crime-processor\").setMaster(\"local\")\n",
    "    spark = SparkSession.builder.config(conf=conf).getOrCreate()\n",
    "    return spark, spark.sparkContext"
   ]
  },
  {
   "cell_type": "code",
   "execution_count": 8,
   "id": "2f948875",
   "metadata": {},
   "outputs": [],
   "source": [
    "def getCrimesPerMonth(sdf: PySparkDataFrame) -> pd.DataFrame:\n",
    "    crimeTimes = sdf\\\n",
    "    .select(\n",
    "        year(\"CMPLNT_FR\").alias(\"CMPLNT_FR_YEAR\"),\n",
    "        month(\"CMPLNT_FR\").alias(\"CMPLNT_FR_MONTH\"),\n",
    "        dayofmonth(\"CMPLNT_FR\").alias(\"CMPLNT_FR_DAY\"),\n",
    "        hour(\"CMPLNT_FR\").alias(\"CMPLNT_FR_HOUR\")\n",
    "    ).cache()\n",
    "    \n",
    "    crimesPerMonth = crimeTimes\\\n",
    "        .groupBy([\"CMPLNT_FR_YEAR\", \"CMPLNT_FR_MONTH\"])\\\n",
    "        .count()\\\n",
    "        .sort([col(\"CMPLNT_FR_YEAR\"), col(\"CMPLNT_FR_MONTH\")])\\\n",
    "        .toPandas()\n",
    "    \n",
    "    crimesPerMonth[\"Date\"] = crimesPerMonth.CMPLNT_FR_MONTH.map(str) + \"/\" + crimesPerMonth.CMPLNT_FR_YEAR.map(str)\n",
    "    crimesPerMonth.Date = pd.to_datetime(crimesPerMonth.Date)\n",
    "    crimesPerMonth.set_index(\"Date\", inplace=True)\n",
    "    crimesPerMonth.drop(columns=[\"CMPLNT_FR_YEAR\", \"CMPLNT_FR_MONTH\"], inplace=True)\n",
    "    return crimesPerMonth"
   ]
  },
  {
   "cell_type": "code",
   "execution_count": 9,
   "id": "59c56ec4",
   "metadata": {},
   "outputs": [
    {
     "name": "stderr",
     "output_type": "stream",
     "text": [
      "Setting default log level to \"WARN\".\n",
      "To adjust logging level use sc.setLogLevel(newLevel). For SparkR, use setLogLevel(newLevel).\n"
     ]
    },
    {
     "name": "stdout",
     "output_type": "stream",
     "text": [
      "23/03/07 15:56:26 WARN NativeCodeLoader: Unable to load native-hadoop library for your platform... using builtin-java classes where applicable\n",
      "23/03/07 15:56:26 WARN Utils: Service 'SparkUI' could not bind on port 4040. Attempting port 4041.\n"
     ]
    }
   ],
   "source": [
    "spark, _ = initializeSpark()"
   ]
  },
  {
   "cell_type": "code",
   "execution_count": 10,
   "id": "70a346ad",
   "metadata": {},
   "outputs": [
    {
     "data": {
      "text/html": [
       "<div>\n",
       "<style scoped>\n",
       "    .dataframe tbody tr th:only-of-type {\n",
       "        vertical-align: middle;\n",
       "    }\n",
       "\n",
       "    .dataframe tbody tr th {\n",
       "        vertical-align: top;\n",
       "    }\n",
       "\n",
       "    .dataframe thead th {\n",
       "        text-align: right;\n",
       "    }\n",
       "</style>\n",
       "<table border=\"1\" class=\"dataframe\">\n",
       "  <thead>\n",
       "    <tr style=\"text-align: right;\">\n",
       "      <th></th>\n",
       "      <th>CMPLNT_NUM</th>\n",
       "      <th>ADDR_PCT_CD</th>\n",
       "      <th>RPT_DT</th>\n",
       "      <th>KY_CD</th>\n",
       "      <th>OFNS_DESC</th>\n",
       "      <th>PD_CD</th>\n",
       "      <th>PD_DESC</th>\n",
       "      <th>CRM_ATPT_CPTD_CD</th>\n",
       "      <th>LAW_CAT_CD</th>\n",
       "      <th>BORO_NM</th>\n",
       "      <th>...</th>\n",
       "      <th>SUSP_RACE</th>\n",
       "      <th>SUSP_SEX</th>\n",
       "      <th>LATITUDE</th>\n",
       "      <th>LONGITUDE</th>\n",
       "      <th>PATROL_BORO</th>\n",
       "      <th>VIC_AGE_GROUP</th>\n",
       "      <th>VIC_RACE</th>\n",
       "      <th>VIC_SEX</th>\n",
       "      <th>CMPLNT_TO</th>\n",
       "      <th>CMPLNT_FR</th>\n",
       "    </tr>\n",
       "  </thead>\n",
       "  <tbody>\n",
       "    <tr>\n",
       "      <th>0</th>\n",
       "      <td>506547392</td>\n",
       "      <td>32</td>\n",
       "      <td>2018-03-30 00:00:00</td>\n",
       "      <td>351</td>\n",
       "      <td>CRIMINAL MISCHIEF</td>\n",
       "      <td>254</td>\n",
       "      <td>MISCHIEF, CRIMINAL 4, OF MOTOR</td>\n",
       "      <td>COMPLETED</td>\n",
       "      <td>MISDEMEANOR</td>\n",
       "      <td>MANHATTAN</td>\n",
       "      <td>...</td>\n",
       "      <td>None</td>\n",
       "      <td>None</td>\n",
       "      <td>40.810877</td>\n",
       "      <td>-73.941064</td>\n",
       "      <td>PATROL BORO MAN NORTH</td>\n",
       "      <td>25-44</td>\n",
       "      <td>WHITE</td>\n",
       "      <td>F</td>\n",
       "      <td>None</td>\n",
       "      <td>2018-03-29 20:30:00</td>\n",
       "    </tr>\n",
       "    <tr>\n",
       "      <th>1</th>\n",
       "      <td>629632833</td>\n",
       "      <td>52</td>\n",
       "      <td>2018-02-07 00:00:00</td>\n",
       "      <td>341</td>\n",
       "      <td>PETIT LARCENY</td>\n",
       "      <td>333</td>\n",
       "      <td>LARCENY,PETIT FROM STORE-SHOPL</td>\n",
       "      <td>COMPLETED</td>\n",
       "      <td>MISDEMEANOR</td>\n",
       "      <td>BRONX</td>\n",
       "      <td>...</td>\n",
       "      <td>BLACK</td>\n",
       "      <td>F</td>\n",
       "      <td>40.873671</td>\n",
       "      <td>-73.908014</td>\n",
       "      <td>PATROL BORO BRONX</td>\n",
       "      <td>UNKNOWN</td>\n",
       "      <td>UNKNOWN</td>\n",
       "      <td>D</td>\n",
       "      <td>None</td>\n",
       "      <td>2018-02-06 23:15:00</td>\n",
       "    </tr>\n",
       "    <tr>\n",
       "      <th>2</th>\n",
       "      <td>787203902</td>\n",
       "      <td>75</td>\n",
       "      <td>2018-11-21 00:00:00</td>\n",
       "      <td>341</td>\n",
       "      <td>PETIT LARCENY</td>\n",
       "      <td>321</td>\n",
       "      <td>LARCENY,PETIT FROM AUTO</td>\n",
       "      <td>COMPLETED</td>\n",
       "      <td>MISDEMEANOR</td>\n",
       "      <td>BROOKLYN</td>\n",
       "      <td>...</td>\n",
       "      <td>WHITE HISPANIC</td>\n",
       "      <td>F</td>\n",
       "      <td>40.651782</td>\n",
       "      <td>-73.885457</td>\n",
       "      <td>PATROL BORO BKLYN NORTH</td>\n",
       "      <td>UNKNOWN</td>\n",
       "      <td>UNKNOWN</td>\n",
       "      <td>D</td>\n",
       "      <td>2018-11-21 00:20:00</td>\n",
       "      <td>2018-11-21 00:15:00</td>\n",
       "    </tr>\n",
       "    <tr>\n",
       "      <th>3</th>\n",
       "      <td>280364018</td>\n",
       "      <td>10</td>\n",
       "      <td>2018-06-10 00:00:00</td>\n",
       "      <td>361</td>\n",
       "      <td>OFFENSES AGAINST PUBLIC ORDER/ADMINISTRATION</td>\n",
       "      <td>639</td>\n",
       "      <td>AGGRAVATED HARASSMENT 2</td>\n",
       "      <td>COMPLETED</td>\n",
       "      <td>MISDEMEANOR</td>\n",
       "      <td>MANHATTAN</td>\n",
       "      <td>...</td>\n",
       "      <td>WHITE HISPANIC</td>\n",
       "      <td>M</td>\n",
       "      <td>40.759310</td>\n",
       "      <td>-73.994706</td>\n",
       "      <td>PATROL BORO MAN SOUTH</td>\n",
       "      <td>18-24</td>\n",
       "      <td>WHITE HISPANIC</td>\n",
       "      <td>F</td>\n",
       "      <td>2018-06-09 21:43:00</td>\n",
       "      <td>2018-06-09 21:42:00</td>\n",
       "    </tr>\n",
       "    <tr>\n",
       "      <th>4</th>\n",
       "      <td>985800320</td>\n",
       "      <td>19</td>\n",
       "      <td>2018-11-10 00:00:00</td>\n",
       "      <td>341</td>\n",
       "      <td>PETIT LARCENY</td>\n",
       "      <td>333</td>\n",
       "      <td>LARCENY,PETIT FROM STORE-SHOPL</td>\n",
       "      <td>COMPLETED</td>\n",
       "      <td>MISDEMEANOR</td>\n",
       "      <td>MANHATTAN</td>\n",
       "      <td>...</td>\n",
       "      <td>BLACK HISPANIC</td>\n",
       "      <td>F</td>\n",
       "      <td>40.764536</td>\n",
       "      <td>-73.970728</td>\n",
       "      <td>PATROL BORO MAN NORTH</td>\n",
       "      <td>UNKNOWN</td>\n",
       "      <td>UNKNOWN</td>\n",
       "      <td>D</td>\n",
       "      <td>2018-11-10 19:45:00</td>\n",
       "      <td>2018-11-10 19:40:00</td>\n",
       "    </tr>\n",
       "  </tbody>\n",
       "</table>\n",
       "<p>5 rows × 25 columns</p>\n",
       "</div>"
      ],
      "text/plain": [
       "   CMPLNT_NUM  ADDR_PCT_CD               RPT_DT  KY_CD  \\\n",
       "0   506547392           32  2018-03-30 00:00:00    351   \n",
       "1   629632833           52  2018-02-07 00:00:00    341   \n",
       "2   787203902           75  2018-11-21 00:00:00    341   \n",
       "3   280364018           10  2018-06-10 00:00:00    361   \n",
       "4   985800320           19  2018-11-10 00:00:00    341   \n",
       "\n",
       "                                      OFNS_DESC  PD_CD  \\\n",
       "0                             CRIMINAL MISCHIEF    254   \n",
       "1                                 PETIT LARCENY    333   \n",
       "2                                 PETIT LARCENY    321   \n",
       "3  OFFENSES AGAINST PUBLIC ORDER/ADMINISTRATION    639   \n",
       "4                                 PETIT LARCENY    333   \n",
       "\n",
       "                          PD_DESC CRM_ATPT_CPTD_CD   LAW_CAT_CD    BORO_NM  \\\n",
       "0  MISCHIEF, CRIMINAL 4, OF MOTOR        COMPLETED  MISDEMEANOR  MANHATTAN   \n",
       "1  LARCENY,PETIT FROM STORE-SHOPL        COMPLETED  MISDEMEANOR      BRONX   \n",
       "2         LARCENY,PETIT FROM AUTO        COMPLETED  MISDEMEANOR   BROOKLYN   \n",
       "3         AGGRAVATED HARASSMENT 2        COMPLETED  MISDEMEANOR  MANHATTAN   \n",
       "4  LARCENY,PETIT FROM STORE-SHOPL        COMPLETED  MISDEMEANOR  MANHATTAN   \n",
       "\n",
       "   ...       SUSP_RACE SUSP_SEX   LATITUDE  LONGITUDE  \\\n",
       "0  ...            None     None  40.810877 -73.941064   \n",
       "1  ...           BLACK        F  40.873671 -73.908014   \n",
       "2  ...  WHITE HISPANIC        F  40.651782 -73.885457   \n",
       "3  ...  WHITE HISPANIC        M  40.759310 -73.994706   \n",
       "4  ...  BLACK HISPANIC        F  40.764536 -73.970728   \n",
       "\n",
       "               PATROL_BORO VIC_AGE_GROUP        VIC_RACE  VIC_SEX  \\\n",
       "0    PATROL BORO MAN NORTH         25-44           WHITE        F   \n",
       "1        PATROL BORO BRONX       UNKNOWN         UNKNOWN        D   \n",
       "2  PATROL BORO BKLYN NORTH       UNKNOWN         UNKNOWN        D   \n",
       "3    PATROL BORO MAN SOUTH         18-24  WHITE HISPANIC        F   \n",
       "4    PATROL BORO MAN NORTH       UNKNOWN         UNKNOWN        D   \n",
       "\n",
       "             CMPLNT_TO            CMPLNT_FR  \n",
       "0                 None  2018-03-29 20:30:00  \n",
       "1                 None  2018-02-06 23:15:00  \n",
       "2  2018-11-21 00:20:00  2018-11-21 00:15:00  \n",
       "3  2018-06-09 21:43:00  2018-06-09 21:42:00  \n",
       "4  2018-11-10 19:45:00  2018-11-10 19:40:00  \n",
       "\n",
       "[5 rows x 25 columns]"
      ]
     },
     "execution_count": 10,
     "metadata": {},
     "output_type": "execute_result"
    }
   ],
   "source": [
    "processedSDF = spark.read.load(path=join(\"..\", \"data\", \"NYPD_Complaint_Data_Historic.parquet\"), format=\"parquet\")\n",
    "processedSDF.limit(5).toPandas()"
   ]
  },
  {
   "cell_type": "code",
   "execution_count": 11,
   "id": "6af209f7",
   "metadata": {},
   "outputs": [
    {
     "name": "stderr",
     "output_type": "stream",
     "text": [
      "                                                                                \r"
     ]
    }
   ],
   "source": [
    "crimesPerMonth = getCrimesPerMonth(sdf=processedSDF)"
   ]
  },
  {
   "cell_type": "markdown",
   "id": "e2162c12",
   "metadata": {},
   "source": [
    "## Compare Crime Rate and Temperature"
   ]
  },
  {
   "cell_type": "code",
   "execution_count": 12,
   "id": "9e8a6d8b",
   "metadata": {
    "scrolled": false
   },
   "outputs": [],
   "source": [
    "def compareCrimeRateAndTemperature(weatherData: pd.DataFrame, crimeData: pd.DataFrame):\n",
    "    fig = make_subplots(\n",
    "        rows=2, \n",
    "        cols=1,\n",
    "        subplot_titles=(\"Temperature\", \"Crime Rate\"),\n",
    "        shared_xaxes=True\n",
    "    )\n",
    "\n",
    "    average_temperature = go.Scatter(\n",
    "        x=weatherData.DATE,\n",
    "        y=weatherData.TAVG,\n",
    "        hovertemplate=\"<i>Date</i>: %{x}\"\n",
    "              \"<br><i>Temperature</i>: %{y}°C<br>\"\n",
    "              \"<extra></extra>\",\n",
    "        mode=\"lines\",\n",
    "        name=\"Average Temperature\"\n",
    "    )\n",
    "\n",
    "\n",
    "    monthlyCrime = go.Scatter(\n",
    "        x=crimeData.index,\n",
    "        y=crimeData[\"count\"],\n",
    "        hovertemplate=\"<i>Date</i>: %{x}\"\n",
    "          \"<br><i>Count</i>: %{y}<br>\"\n",
    "          \"<extra></extra>\",\n",
    "        mode=\"lines\",\n",
    "        name=\"Monthly Crime Rates\"\n",
    "    )\n",
    "\n",
    "    fig.add_trace(average_temperature, row=1, col=1)\n",
    "    fig.add_trace(monthlyCrime, row=2, col=1)\n",
    "\n",
    "\n",
    "    # Update xaxis properties\n",
    "    fig.update_xaxes(title_text=\"Month\", row=2, col=1)\n",
    "\n",
    "    # Update yaxis properties\n",
    "    fig.update_yaxes(title_text=\"Temperature (°C)\", row=1, col=1)\n",
    "    fig.update_yaxes(title_text=\"Count\", row=2, col=1)\n",
    "\n",
    "    fig.update_layout(\n",
    "        title=\"Temperature and Crime Rates from 2006-2021\",\n",
    "    )\n",
    "    return fig"
   ]
  },
  {
   "cell_type": "code",
   "execution_count": 13,
   "id": "dc7ec06e",
   "metadata": {},
   "outputs": [
    {
     "data": {
      "text/html": [
       "<iframe\n",
       "    scrolling=\"no\"\n",
       "    width=\"100%\"\n",
       "    height=\"545px\"\n",
       "    src=\"iframe_figures/figure_13.html\"\n",
       "    frameborder=\"0\"\n",
       "    allowfullscreen\n",
       "></iframe>\n"
      ]
     },
     "metadata": {},
     "output_type": "display_data"
    }
   ],
   "source": [
    "compareCrimeRateAndTemperature(weatherData=df, crimeData=crimesPerMonth)"
   ]
  },
  {
   "cell_type": "markdown",
   "id": "437b1925",
   "metadata": {},
   "source": [
    "Here we see seasionality that it's hotter in the summer months (June, July, August) and colder in the winter months (December, January, February)"
   ]
  },
  {
   "cell_type": "markdown",
   "id": "d8836e3b",
   "metadata": {},
   "source": [
    "## How Does Temperature Affect Crime Rates?\n",
    "* How strong is the correlation? Inside vs Outside?\n",
    "* Which type of crimes are most affected by temeprature?"
   ]
  },
  {
   "cell_type": "markdown",
   "id": "e62c3f03",
   "metadata": {},
   "source": [
    "We see that temperature is a poor indicator of crime rates. The r-squared value, which ranges from 0 to 1, is 0.28. This indicates that the linear regression model poorly fits the data. Perhaps we should change the scope from finding the correlation of temperature and crime rates to finding correlation of temperature and crimes that have occurred outside. "
   ]
  },
  {
   "cell_type": "code",
   "execution_count": 14,
   "id": "bf604e97",
   "metadata": {},
   "outputs": [
    {
     "data": {
      "text/html": [
       "<iframe\n",
       "    scrolling=\"no\"\n",
       "    width=\"100%\"\n",
       "    height=\"545px\"\n",
       "    src=\"iframe_figures/figure_14.html\"\n",
       "    frameborder=\"0\"\n",
       "    allowfullscreen\n",
       "></iframe>\n"
      ]
     },
     "metadata": {},
     "output_type": "display_data"
    }
   ],
   "source": [
    "fig = px.scatter(\n",
    "    x=df.TAVG, \n",
    "    y=crimesPerMonth[\"count\"],\n",
    "    trendline=\"ols\",\n",
    "    title=\"Crimes per Month vs. Temperature\",\n",
    ")\n",
    "\n",
    "fig.update_layout(\n",
    "    xaxis_title=\"Temperature (°C)\",\n",
    "    yaxis_title=\"Crime Rate\",\n",
    ")\n",
    "fig"
   ]
  },
  {
   "cell_type": "code",
   "execution_count": 22,
   "id": "bfa96659",
   "metadata": {},
   "outputs": [
    {
     "name": "stdout",
     "output_type": "stream",
     "text": [
      "+-----------------+\n",
      "|LOC_OF_OCCUR_DESC|\n",
      "+-----------------+\n",
      "|      OPPOSITE OF|\n",
      "|          REAR OF|\n",
      "|             null|\n",
      "|           INSIDE|\n",
      "|         FRONT OF|\n",
      "+-----------------+\n",
      "\n"
     ]
    },
    {
     "name": "stderr",
     "output_type": "stream",
     "text": [
      "\r",
      "[Stage 26:======================================>                   (2 + 1) / 3]\r",
      "\r",
      "                                                                                \r"
     ]
    }
   ],
   "source": [
    "processedSDF.select(\"LOC_OF_OCCUR_DESC\").distinct().show()"
   ]
  },
  {
   "cell_type": "code",
   "execution_count": 32,
   "id": "96f632b8",
   "metadata": {},
   "outputs": [],
   "source": [
    "outsideCrimes = processedSDF\\\n",
    "    .select(\n",
    "        \"LOC_OF_OCCUR_DESC\",\n",
    "        year(\"CMPLNT_FR\").alias(\"CMPLNT_FR_YEAR\"),\n",
    "        month(\"CMPLNT_FR\").alias(\"CMPLNT_FR_MONTH\"),\n",
    "    )\\\n",
    "    .filter((col(\"LOC_OF_OCCUR_DESC\") != \"INSIDE\")).cache()\n",
    "\n",
    "insideCrimes = processedSDF\\\n",
    "    .select(\n",
    "        \"LOC_OF_OCCUR_DESC\",\n",
    "        year(\"CMPLNT_FR\").alias(\"CMPLNT_FR_YEAR\"),\n",
    "        month(\"CMPLNT_FR\").alias(\"CMPLNT_FR_MONTH\"),\n",
    "    )\\\n",
    "    .filter((col(\"LOC_OF_OCCUR_DESC\") == \"INSIDE\"))"
   ]
  },
  {
   "cell_type": "code",
   "execution_count": 16,
   "id": "9fe4c3dd",
   "metadata": {},
   "outputs": [
    {
     "name": "stderr",
     "output_type": "stream",
     "text": [
      "                                                                                \r"
     ]
    }
   ],
   "source": [
    "outsideCrimesDF = outsideCrimes.groupBy([\"CMPLNT_FR_YEAR\", \"CMPLNT_FR_MONTH\"])\\\n",
    "    .count()\\\n",
    "    .sort([col(\"CMPLNT_FR_YEAR\"), col(\"CMPLNT_FR_MONTH\")])\\\n",
    "    .toPandas()\n",
    "\n",
    "insideCrimesDF = insideCrimes.groupBy([\"CMPLNT_FR_YEAR\", \"CMPLNT_FR_MONTH\"])\\\n",
    "    .count()\\\n",
    "    .sort([col(\"CMPLNT_FR_YEAR\"), col(\"CMPLNT_FR_MONTH\")])\\\n",
    "    .toPandas()"
   ]
  },
  {
   "cell_type": "code",
   "execution_count": 20,
   "id": "033fc474",
   "metadata": {},
   "outputs": [
    {
     "data": {
      "text/html": [
       "<iframe\n",
       "    scrolling=\"no\"\n",
       "    width=\"100%\"\n",
       "    height=\"545px\"\n",
       "    src=\"iframe_figures/figure_20.html\"\n",
       "    frameborder=\"0\"\n",
       "    allowfullscreen\n",
       "></iframe>\n"
      ]
     },
     "metadata": {},
     "output_type": "display_data"
    }
   ],
   "source": [
    "fig = px.scatter(\n",
    "    x=df.TAVG, \n",
    "    y=insideCrimesDF[\"count\"],\n",
    "    trendline=\"ols\",\n",
    "    title=\"Indoor Crimes per Month vs. Temperature\",\n",
    ")\n",
    "\n",
    "fig.update_layout(\n",
    "    xaxis_title=\"Temperature (°C)\",\n",
    "    yaxis_title=\"Crime Rate\",\n",
    ")\n",
    "fig"
   ]
  },
  {
   "cell_type": "code",
   "execution_count": 21,
   "id": "d67264c6",
   "metadata": {},
   "outputs": [
    {
     "data": {
      "text/html": [
       "<iframe\n",
       "    scrolling=\"no\"\n",
       "    width=\"100%\"\n",
       "    height=\"545px\"\n",
       "    src=\"iframe_figures/figure_21.html\"\n",
       "    frameborder=\"0\"\n",
       "    allowfullscreen\n",
       "></iframe>\n"
      ]
     },
     "metadata": {},
     "output_type": "display_data"
    }
   ],
   "source": [
    "fig = px.scatter(\n",
    "    x=df.TAVG, \n",
    "    y=outsideCrimesDF[\"count\"],\n",
    "    trendline=\"ols\",\n",
    "    title=\"Outdoor Crimes per Month vs. Temperature\",\n",
    ")\n",
    "\n",
    "fig.update_layout(\n",
    "    xaxis_title=\"Temperature (°C)\",\n",
    "    yaxis_title=\"Crime Rate\",\n",
    ")\n",
    "fig"
   ]
  },
  {
   "cell_type": "markdown",
   "id": "700f658b",
   "metadata": {},
   "source": [
    "Are there any crimes that correlate stronger to temperature than other type of crimes? Let's see if we can sort crimes by how strong they correlate with temperature."
   ]
  },
  {
   "cell_type": "code",
   "execution_count": 24,
   "id": "561f1b95",
   "metadata": {},
   "outputs": [
    {
     "name": "stderr",
     "output_type": "stream",
     "text": [
      "\r",
      "[Stage 29:======================================>                   (2 + 1) / 3]\r",
      "\r",
      "                                                                                \r"
     ]
    }
   ],
   "source": [
    "typesOfCrimes = processedSDF\\\n",
    ".filter((col(\"LOC_OF_OCCUR_DESC\") != \"INSIDE\"))\\\n",
    ".select(\"OFNS_DESC\").distinct().toPandas()"
   ]
  },
  {
   "cell_type": "code",
   "execution_count": 52,
   "id": "b3e0d7cb",
   "metadata": {
    "scrolled": true
   },
   "outputs": [
    {
     "name": "stdout",
     "output_type": "stream",
     "text": [
      "OFFENSES AGAINST PUBLIC ORDER/ADMINISTRATION\n"
     ]
    },
    {
     "name": "stderr",
     "output_type": "stream",
     "text": [
      "                                                                                \r"
     ]
    },
    {
     "name": "stdout",
     "output_type": "stream",
     "text": [
      "OTHER TRAFFIC INFRACTION\n",
      "ANTICIPATORY OFFENSES\n"
     ]
    },
    {
     "name": "stderr",
     "output_type": "stream",
     "text": [
      "\r",
      "[Stage 750:======================================>                  (2 + 1) / 3]\r",
      "\r",
      "                                                                                \r"
     ]
    },
    {
     "name": "stdout",
     "output_type": "stream",
     "text": [
      "FELONY SEX CRIMES\n",
      "NEW YORK CITY HEALTH CODE\n"
     ]
    },
    {
     "name": "stderr",
     "output_type": "stream",
     "text": [
      "\r",
      "[Stage 766:======================================>                  (2 + 1) / 3]\r",
      "\r",
      "                                                                                \r"
     ]
    },
    {
     "name": "stdout",
     "output_type": "stream",
     "text": [
      "VEHICLE AND TRAFFIC LAWS\n"
     ]
    },
    {
     "name": "stderr",
     "output_type": "stream",
     "text": [
      "\r",
      "[Stage 774:======================================>                  (2 + 1) / 3]\r",
      "\r",
      "                                                                                \r"
     ]
    },
    {
     "name": "stdout",
     "output_type": "stream",
     "text": [
      "KIDNAPPING & RELATED OFFENSES\n",
      "HOMICIDE-NEGLIGENT-VEHICLE\n"
     ]
    },
    {
     "name": "stderr",
     "output_type": "stream",
     "text": [
      "\r",
      "[Stage 790:======================================>                  (2 + 1) / 3]\r",
      "\r",
      "                                                                                \r"
     ]
    },
    {
     "name": "stdout",
     "output_type": "stream",
     "text": [
      "PETIT LARCENY OF MOTOR VEHICLE\n"
     ]
    },
    {
     "name": "stderr",
     "output_type": "stream",
     "text": [
      "                                                                                \r"
     ]
    },
    {
     "name": "stdout",
     "output_type": "stream",
     "text": [
      "FELONY ASSAULT\n"
     ]
    },
    {
     "name": "stderr",
     "output_type": "stream",
     "text": [
      "\r",
      "[Stage 806:===================>                                     (1 + 1) / 3]\r",
      "\r",
      "                                                                                \r"
     ]
    },
    {
     "name": "stdout",
     "output_type": "stream",
     "text": [
      "ALCOHOLIC BEVERAGE CONTROL LAW\n"
     ]
    },
    {
     "name": "stderr",
     "output_type": "stream",
     "text": [
      "\r",
      "[Stage 814:======================================>                  (2 + 1) / 3]\r",
      "\r",
      "                                                                                \r"
     ]
    },
    {
     "name": "stdout",
     "output_type": "stream",
     "text": [
      "OFFENSES RELATED TO CHILDREN\n"
     ]
    },
    {
     "name": "stderr",
     "output_type": "stream",
     "text": [
      "\r",
      "[Stage 822:======================================>                  (2 + 1) / 3]\r",
      "\r",
      "                                                                                \r"
     ]
    },
    {
     "name": "stdout",
     "output_type": "stream",
     "text": [
      "THEFT-FRAUD\n",
      "THEFT OF SERVICES\n"
     ]
    },
    {
     "name": "stderr",
     "output_type": "stream",
     "text": [
      "\r",
      "[Stage 838:======================================>                  (2 + 1) / 3]\r",
      "\r",
      "                                                                                \r"
     ]
    },
    {
     "name": "stdout",
     "output_type": "stream",
     "text": [
      "JOSTLING\n"
     ]
    },
    {
     "name": "stderr",
     "output_type": "stream",
     "text": [
      "\r",
      "[Stage 846:======================================>                  (2 + 1) / 3]\r",
      "\r",
      "                                                                                \r"
     ]
    },
    {
     "name": "stdout",
     "output_type": "stream",
     "text": [
      "MISCELLANEOUS PENAL LAW\n"
     ]
    },
    {
     "name": "stderr",
     "output_type": "stream",
     "text": [
      "\r",
      "[Stage 854:======================================>                  (2 + 1) / 3]\r",
      "\r",
      "                                                                                \r"
     ]
    },
    {
     "name": "stdout",
     "output_type": "stream",
     "text": [
      "CRIMINAL MISCHIEF\n"
     ]
    },
    {
     "name": "stderr",
     "output_type": "stream",
     "text": [
      "\r",
      "[Stage 862:======================================>                  (2 + 1) / 3]\r",
      "\r",
      "                                                                                \r"
     ]
    },
    {
     "name": "stdout",
     "output_type": "stream",
     "text": [
      "ARSON\n"
     ]
    },
    {
     "name": "stderr",
     "output_type": "stream",
     "text": [
      "\r",
      "[Stage 870:======================================>                  (2 + 1) / 3]\r",
      "\r",
      "                                                                                \r"
     ]
    },
    {
     "name": "stdout",
     "output_type": "stream",
     "text": [
      "OFFENSES AGAINST THE PERSON\n"
     ]
    },
    {
     "name": "stderr",
     "output_type": "stream",
     "text": [
      "\r",
      "[Stage 878:======================================>                  (2 + 1) / 3]\r",
      "\r",
      "                                                                                \r"
     ]
    },
    {
     "name": "stdout",
     "output_type": "stream",
     "text": [
      "GAMBLING\n"
     ]
    },
    {
     "name": "stderr",
     "output_type": "stream",
     "text": [
      "                                                                                \r"
     ]
    },
    {
     "name": "stdout",
     "output_type": "stream",
     "text": [
      "ENDANGERING WELFARE OF INCOMPETENT\n",
      "SEX CRIMES\n",
      "CRIMINAL TRESPASS\n"
     ]
    },
    {
     "name": "stderr",
     "output_type": "stream",
     "text": [
      "\r",
      "[Stage 910:======================================>                  (2 + 1) / 3]\r",
      "\r",
      "                                                                                \r"
     ]
    },
    {
     "name": "stdout",
     "output_type": "stream",
     "text": [
      "BURGLAR'S TOOLS\n"
     ]
    },
    {
     "name": "stderr",
     "output_type": "stream",
     "text": [
      "\r",
      "[Stage 918:======================================>                  (2 + 1) / 3]\r",
      "\r",
      "                                                                                \r"
     ]
    },
    {
     "name": "stdout",
     "output_type": "stream",
     "text": [
      "NYS LAWS-UNCLASSIFIED VIOLATION\n",
      "CHILD ABANDONMENT/NON SUPPORT\n"
     ]
    },
    {
     "name": "stderr",
     "output_type": "stream",
     "text": [
      "                                                                                \r"
     ]
    },
    {
     "name": "stdout",
     "output_type": "stream",
     "text": [
      "OFFENSES INVOLVING FRAUD\n"
     ]
    },
    {
     "name": "stderr",
     "output_type": "stream",
     "text": [
      "\r",
      "[Stage 942:======================================>                  (2 + 1) / 3]\r",
      "\r",
      "                                                                                \r"
     ]
    },
    {
     "name": "stdout",
     "output_type": "stream",
     "text": [
      "INTOXICATED/IMPAIRED DRIVING\n"
     ]
    },
    {
     "name": "stderr",
     "output_type": "stream",
     "text": [
      "\r",
      "[Stage 950:======================================>                  (2 + 1) / 3]\r",
      "\r",
      "                                                                                \r"
     ]
    },
    {
     "name": "stdout",
     "output_type": "stream",
     "text": [
      "HOMICIDE-NEGLIGENT\n",
      "LOITERING/DEVIATE SEX\n",
      "INTOXICATED & IMPAIRED DRIVING\n",
      "ESCAPE\n"
     ]
    },
    {
     "name": "stderr",
     "output_type": "stream",
     "text": [
      "\r",
      "[Stage 982:======================================>                  (2 + 1) / 3]\r",
      "\r",
      "                                                                                \r"
     ]
    },
    {
     "name": "stdout",
     "output_type": "stream",
     "text": [
      "AGRICULTURE & MARKETS LAW\n",
      "FRAUDS\n"
     ]
    },
    {
     "name": "stderr",
     "output_type": "stream",
     "text": [
      "\r",
      "[Stage 998:===================>                                     (1 + 1) / 3]\r",
      "\r",
      "                                                                                \r"
     ]
    },
    {
     "name": "stdout",
     "output_type": "stream",
     "text": [
      "FORTUNE TELLING\n",
      "NYS LAWS-UNCLASSIFIED FELONY\n",
      "UNLAWFUL POSSESSION OF WEAPON ON SCHOOL\n"
     ]
    },
    {
     "name": "stderr",
     "output_type": "stream",
     "text": [
      "\r",
      "[Stage 1022:=====================================>                  (2 + 1) / 3]\r",
      "\r",
      "                                                                                \r"
     ]
    },
    {
     "name": "stdout",
     "output_type": "stream",
     "text": [
      "DANGEROUS DRUGS\n"
     ]
    },
    {
     "name": "stderr",
     "output_type": "stream",
     "text": [
      "\r",
      "[Stage 1030:=====================================>                  (2 + 1) / 3]\r",
      "\r",
      "                                                                                \r"
     ]
    },
    {
     "name": "stdout",
     "output_type": "stream",
     "text": [
      "PROSTITUTION & RELATED OFFENSES\n"
     ]
    },
    {
     "name": "stderr",
     "output_type": "stream",
     "text": [
      "\r",
      "[Stage 1038:=====================================>                  (2 + 1) / 3]\r",
      "\r",
      "                                                                                \r"
     ]
    },
    {
     "name": "stdout",
     "output_type": "stream",
     "text": [
      "ASSAULT & RELATED OFFENSES\n"
     ]
    },
    {
     "name": "stderr",
     "output_type": "stream",
     "text": [
      "\r",
      "[Stage 1046:=====================================>                  (2 + 1) / 3]\r",
      "\r",
      "                                                                                \r"
     ]
    },
    {
     "name": "stdout",
     "output_type": "stream",
     "text": [
      "FORGERY\n"
     ]
    },
    {
     "name": "stderr",
     "output_type": "stream",
     "text": [
      "\r",
      "[Stage 1054:=====================================>                  (2 + 1) / 3]\r",
      "\r",
      "                                                                                \r"
     ]
    },
    {
     "name": "stdout",
     "output_type": "stream",
     "text": [
      "FRAUDULENT ACCOSTING\n"
     ]
    },
    {
     "name": "stderr",
     "output_type": "stream",
     "text": [
      "\r",
      "[Stage 1062:=====================================>                  (2 + 1) / 3]\r",
      "\r",
      "                                                                                \r"
     ]
    },
    {
     "name": "stdout",
     "output_type": "stream",
     "text": [
      "OTHER OFFENSES RELATED TO THEFT\n"
     ]
    },
    {
     "name": "stderr",
     "output_type": "stream",
     "text": [
      "\r",
      "[Stage 1070:=====================================>                  (2 + 1) / 3]\r",
      "\r",
      "                                                                                \r"
     ]
    },
    {
     "name": "stdout",
     "output_type": "stream",
     "text": [
      "LOITERING\n",
      "ROBBERY\n",
      "GRAND LARCENY OF MOTOR VEHICLE\n"
     ]
    },
    {
     "name": "stderr",
     "output_type": "stream",
     "text": [
      "                                                                                \r"
     ]
    },
    {
     "name": "stdout",
     "output_type": "stream",
     "text": [
      "DANGEROUS WEAPONS\n"
     ]
    },
    {
     "name": "stderr",
     "output_type": "stream",
     "text": [
      "\r",
      "[Stage 1102:=====================================>                  (2 + 1) / 3]\r",
      "\r",
      "                                                                                \r"
     ]
    },
    {
     "name": "stdout",
     "output_type": "stream",
     "text": [
      "UNAUTHORIZED USE OF A VEHICLE\n"
     ]
    },
    {
     "name": "stderr",
     "output_type": "stream",
     "text": [
      "                                                                                \r"
     ]
    },
    {
     "name": "stdout",
     "output_type": "stream",
     "text": [
      "OTHER STATE LAWS (NON PENAL LAW)\n",
      "OTHER STATE LAWS\n"
     ]
    },
    {
     "name": "stderr",
     "output_type": "stream",
     "text": [
      "\r",
      "[Stage 1126:=====================================>                  (2 + 1) / 3]\r",
      "\r",
      "                                                                                \r"
     ]
    },
    {
     "name": "stdout",
     "output_type": "stream",
     "text": [
      "PETIT LARCENY\n"
     ]
    },
    {
     "name": "stderr",
     "output_type": "stream",
     "text": [
      "\r",
      "[Stage 1134:=====================================>                  (2 + 1) / 3]\r",
      "\r",
      "                                                                                \r"
     ]
    },
    {
     "name": "stdout",
     "output_type": "stream",
     "text": [
      "RAPE\n"
     ]
    },
    {
     "name": "stderr",
     "output_type": "stream",
     "text": [
      "\r",
      "[Stage 1142:=====================================>                  (2 + 1) / 3]\r",
      "\r",
      "                                                                                \r"
     ]
    },
    {
     "name": "stdout",
     "output_type": "stream",
     "text": [
      "DISORDERLY CONDUCT\n"
     ]
    },
    {
     "name": "stderr",
     "output_type": "stream",
     "text": [
      "\r",
      "[Stage 1150:=====================================>                  (2 + 1) / 3]\r",
      "\r",
      "                                                                                \r"
     ]
    },
    {
     "name": "stdout",
     "output_type": "stream",
     "text": [
      "OFFENSES AGAINST PUBLIC SAFETY\n"
     ]
    },
    {
     "name": "stderr",
     "output_type": "stream",
     "text": [
      "\r",
      "[Stage 1158:=====================================>                  (2 + 1) / 3]\r",
      "\r",
      "                                                                                \r"
     ]
    },
    {
     "name": "stdout",
     "output_type": "stream",
     "text": [
      "DISRUPTION OF A RELIGIOUS SERVICE\n"
     ]
    },
    {
     "name": "stderr",
     "output_type": "stream",
     "text": [
      "\r",
      "[Stage 1166:=====================================>                  (2 + 1) / 3]\r",
      "\r",
      "                                                                                \r"
     ]
    },
    {
     "name": "stdout",
     "output_type": "stream",
     "text": [
      "POSSESSION OF STOLEN PROPERTY\n"
     ]
    },
    {
     "name": "stderr",
     "output_type": "stream",
     "text": [
      "\r",
      "[Stage 1174:=====================================>                  (2 + 1) / 3]\r",
      "\r",
      "                                                                                \r"
     ]
    },
    {
     "name": "stdout",
     "output_type": "stream",
     "text": [
      "LOITERING FOR DRUG PURPOSES\n",
      "OFFENSES AGAINST PUBLIC ADMINISTRATION\n"
     ]
    },
    {
     "name": "stderr",
     "output_type": "stream",
     "text": [
      "\r",
      "[Stage 1190:=====================================>                  (2 + 1) / 3]\r",
      "\r",
      "                                                                                \r"
     ]
    },
    {
     "name": "stdout",
     "output_type": "stream",
     "text": [
      "HARRASSMENT\n"
     ]
    },
    {
     "name": "stderr",
     "output_type": "stream",
     "text": [
      "\r",
      "[Stage 1198:=====================================>                  (2 + 1) / 3]\r",
      "\r",
      "                                                                                \r"
     ]
    },
    {
     "name": "stdout",
     "output_type": "stream",
     "text": [
      "GRAND LARCENY\n"
     ]
    },
    {
     "name": "stderr",
     "output_type": "stream",
     "text": [
      "\r",
      "[Stage 1206:=====================================>                  (2 + 1) / 3]\r",
      "\r",
      "                                                                                \r"
     ]
    },
    {
     "name": "stdout",
     "output_type": "stream",
     "text": [
      "ADMINISTRATIVE CODES\n",
      "KIDNAPPING\n",
      "BURGLARY\n"
     ]
    },
    {
     "name": "stderr",
     "output_type": "stream",
     "text": [
      "                                                                                \r"
     ]
    },
    {
     "name": "stdout",
     "output_type": "stream",
     "text": [
      "ADMINISTRATIVE CODE\n"
     ]
    },
    {
     "name": "stderr",
     "output_type": "stream",
     "text": [
      "\r",
      "[Stage 1238:=====================================>                  (2 + 1) / 3]\r",
      "\r",
      "                                                                                \r"
     ]
    },
    {
     "name": "stdout",
     "output_type": "stream",
     "text": [
      "ABORTION\n",
      "UNDER THE INFLUENCE OF DRUGS\n",
      "KIDNAPPING AND RELATED OFFENSES\n"
     ]
    }
   ],
   "source": [
    "output = []\n",
    "\n",
    "for crime in typesOfCrimes[\"OFNS_DESC\"]:\n",
    "    print(crime)\n",
    "    crimeSpecific = outsideCrimes\\\n",
    "    .filter(col(\"OFNS_DESC\") == crime)\\\n",
    "    .groupBy([\"CMPLNT_FR_YEAR\", \"CMPLNT_FR_MONTH\"])\\\n",
    "    .count()\\\n",
    "    .sort([col(\"CMPLNT_FR_YEAR\"), col(\"CMPLNT_FR_MONTH\")])\\\n",
    "    .toPandas()\n",
    "    \n",
    "    if len(crimeSpecific) == 192:\n",
    "        crimeSpecific[\"Date\"] = crimeSpecific.CMPLNT_FR_MONTH.map(str) + \"/\" + crimeSpecific.CMPLNT_FR_YEAR.map(str)\n",
    "        crimeSpecific.Date = pd.to_datetime(crimeSpecific.Date)\n",
    "        crimeSpecific.set_index(\"Date\", inplace=True)\n",
    "        crimeSpecific.drop(columns=[\"CMPLNT_FR_YEAR\", \"CMPLNT_FR_MONTH\"], inplace=True)\n",
    "\n",
    "        merged = crimeSpecific.merge(df.rename(columns={\"DATE\": \"Date\"}).set_index(\"Date\"), left_index=True, right_index=True)\n",
    "        ols = smf.ols(formula=\"TAVG ~ count\", data=merged)\n",
    "        model=ols.fit()\n",
    "        output.append((crime, model.rsquared))"
   ]
  },
  {
   "cell_type": "code",
   "execution_count": 53,
   "id": "23e3c1c7",
   "metadata": {
    "scrolled": true
   },
   "outputs": [
    {
     "data": {
      "text/plain": [
       "[('ASSAULT & RELATED OFFENSES', 0.8316418286144611),\n",
       " ('FELONY ASSAULT', 0.8200541738261642),\n",
       " ('HARRASSMENT', 0.734673859892066),\n",
       " ('MISCELLANEOUS PENAL LAW', 0.6009765365375949),\n",
       " ('SEX CRIMES', 0.5325505388308467),\n",
       " ('OFFENSES AGAINST THE PERSON', 0.5078619099821404),\n",
       " ('PETIT LARCENY', 0.48139985639595073),\n",
       " ('GRAND LARCENY', 0.2824157721636119),\n",
       " ('UNAUTHORIZED USE OF A VEHICLE', 0.27759742449478353),\n",
       " ('RAPE', 0.2751013712289899),\n",
       " ('CRIMINAL MISCHIEF', 0.2322374541273703),\n",
       " ('OFFENSES AGAINST PUBLIC ADMINISTRATION', 0.22264389152883024),\n",
       " ('OFFENSES AGAINST PUBLIC ORDER/ADMINISTRATION', 0.1899220929614457),\n",
       " ('POSSESSION OF STOLEN PROPERTY', 0.1867639682245552),\n",
       " ('BURGLARY', 0.17079596406676567),\n",
       " ('ROBBERY', 0.16128383689587),\n",
       " ('ADMINISTRATIVE CODE', 0.16082673224291222),\n",
       " ('VEHICLE AND TRAFFIC LAWS', 0.1508794678965628),\n",
       " ('FRAUDS', 0.1031032495217793),\n",
       " ('GRAND LARCENY OF MOTOR VEHICLE', 0.08401109637229254),\n",
       " ('DANGEROUS DRUGS', 0.06700278835177709),\n",
       " ('DANGEROUS WEAPONS', 0.06373319819820522),\n",
       " ('FORGERY', 0.011553775831888657),\n",
       " ('ARSON', 0.010181260088691801),\n",
       " ('CRIMINAL TRESPASS', 0.007391817294891356),\n",
       " ('OFFENSES INVOLVING FRAUD', 0.007019196792668603),\n",
       " ('THEFT-FRAUD', 0.005777497264512266),\n",
       " ('INTOXICATED & IMPAIRED DRIVING', 0.004336758487152981),\n",
       " ('OTHER OFFENSES RELATED TO THEFT', 0.0012080259361205714),\n",
       " ('NYS LAWS-UNCLASSIFIED FELONY', 0.0008461279125482335),\n",
       " ('OTHER STATE LAWS (NON PENAL LAW)', 1.8762170252983879e-06)]"
      ]
     },
     "execution_count": 53,
     "metadata": {},
     "output_type": "execute_result"
    }
   ],
   "source": [
    "sorted(output, key=lambda x: x[1], reverse=True)"
   ]
  },
  {
   "cell_type": "code",
   "execution_count": 42,
   "id": "702a3651",
   "metadata": {},
   "outputs": [
    {
     "name": "stderr",
     "output_type": "stream",
     "text": [
      "                                                                                \r"
     ]
    }
   ],
   "source": [
    "assaultDF = outsideCrimes.filter(col(\"OFNS_DESC\") == \"ASSAULT & RELATED OFFENSES\")\\\n",
    ".groupBy([\"CMPLNT_FR_YEAR\", \"CMPLNT_FR_MONTH\"])\\\n",
    ".count()\\\n",
    ".sort([col(\"CMPLNT_FR_YEAR\"), col(\"CMPLNT_FR_MONTH\")])\\\n",
    ".toPandas()\n",
    "\n",
    "assaultDF[\"Date\"] = assaultDF.CMPLNT_FR_MONTH.map(str) + \"/\" + assaultDF.CMPLNT_FR_YEAR.map(str)\n",
    "assaultDF.Date = pd.to_datetime(assaultDF.Date)\n",
    "assaultDF.set_index(\"Date\", inplace=True)\n",
    "assaultDF.drop(columns=[\"CMPLNT_FR_YEAR\", \"CMPLNT_FR_MONTH\"], inplace=True)"
   ]
  },
  {
   "cell_type": "code",
   "execution_count": 43,
   "id": "5eafe8b9",
   "metadata": {},
   "outputs": [
    {
     "data": {
      "text/html": [
       "<iframe\n",
       "    scrolling=\"no\"\n",
       "    width=\"100%\"\n",
       "    height=\"545px\"\n",
       "    src=\"iframe_figures/figure_43.html\"\n",
       "    frameborder=\"0\"\n",
       "    allowfullscreen\n",
       "></iframe>\n"
      ]
     },
     "metadata": {},
     "output_type": "display_data"
    }
   ],
   "source": [
    "fig = px.scatter(\n",
    "    x=df.TAVG, \n",
    "    y=assaultDF[\"count\"],\n",
    "    trendline=\"ols\",\n",
    "    title=\"Crimes per Month vs. Temperature\",\n",
    ")\n",
    "\n",
    "fig.update_layout(\n",
    "    xaxis_title=\"Temperature (°C)\",\n",
    "    yaxis_title=\"Crime Rate\",\n",
    ")\n",
    "fig"
   ]
  },
  {
   "cell_type": "code",
   "execution_count": 54,
   "id": "e3e399e0",
   "metadata": {},
   "outputs": [
    {
     "name": "stderr",
     "output_type": "stream",
     "text": [
      "                                                                                \r"
     ]
    }
   ],
   "source": [
    "assaultDF = outsideCrimes.filter(col(\"OFNS_DESC\") == \"INTOXICATED & IMPAIRED DRIVING\")\\\n",
    ".groupBy([\"CMPLNT_FR_YEAR\", \"CMPLNT_FR_MONTH\"])\\\n",
    ".count()\\\n",
    ".sort([col(\"CMPLNT_FR_YEAR\"), col(\"CMPLNT_FR_MONTH\")])\\\n",
    ".toPandas()\n",
    "\n",
    "assaultDF[\"Date\"] = assaultDF.CMPLNT_FR_MONTH.map(str) + \"/\" + assaultDF.CMPLNT_FR_YEAR.map(str)\n",
    "assaultDF.Date = pd.to_datetime(assaultDF.Date)\n",
    "assaultDF.set_index(\"Date\", inplace=True)\n",
    "assaultDF.drop(columns=[\"CMPLNT_FR_YEAR\", \"CMPLNT_FR_MONTH\"], inplace=True)"
   ]
  },
  {
   "cell_type": "code",
   "execution_count": 55,
   "id": "f85805f0",
   "metadata": {},
   "outputs": [
    {
     "data": {
      "text/html": [
       "<iframe\n",
       "    scrolling=\"no\"\n",
       "    width=\"100%\"\n",
       "    height=\"545px\"\n",
       "    src=\"iframe_figures/figure_55.html\"\n",
       "    frameborder=\"0\"\n",
       "    allowfullscreen\n",
       "></iframe>\n"
      ]
     },
     "metadata": {},
     "output_type": "display_data"
    }
   ],
   "source": [
    "fig = px.scatter(\n",
    "    x=df.TAVG, \n",
    "    y=assaultDF[\"count\"],\n",
    "    trendline=\"ols\",\n",
    "    title=\"Crimes per Month vs. Temperature\",\n",
    ")\n",
    "\n",
    "fig.update_layout(\n",
    "    xaxis_title=\"Temperature (°C)\",\n",
    "    yaxis_title=\"Crime Rate\",\n",
    ")\n",
    "fig"
   ]
  },
  {
   "cell_type": "code",
   "execution_count": null,
   "id": "ff0c58b0",
   "metadata": {},
   "outputs": [],
   "source": [
    "KIDNAPPING AND RELATED OFFENSES"
   ]
  }
 ],
 "metadata": {
  "kernelspec": {
   "display_name": "venv",
   "language": "python",
   "name": "venv"
  },
  "language_info": {
   "codemirror_mode": {
    "name": "ipython",
    "version": 3
   },
   "file_extension": ".py",
   "mimetype": "text/x-python",
   "name": "python",
   "nbconvert_exporter": "python",
   "pygments_lexer": "ipython3",
   "version": "3.9.12"
  }
 },
 "nbformat": 4,
 "nbformat_minor": 5
}
