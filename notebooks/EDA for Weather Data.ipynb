{
 "cells": [
  {
   "cell_type": "markdown",
   "id": "02a39163",
   "metadata": {},
   "source": [
    "# NYC Weather Data\n",
    "The NYC weather data is from the National Centers for Environmental Information, https://www.ncdc.noaa.gov/cdo-web/datasets/GHCND/stations/GHCND:USW00094728/detail. The data is from the weather station at `NY CITY CENTRAL PARK, NY US` from `1869-01-01` to `2023-02-27`. And from the dates we need weather data, from 2006-01-01 to 2021-12-31, we see that are no null values. So there's minimal processing besides converting the date string to datetime, filtering by a time range, and selecting the columns we want.\n",
    "\n",
    "## Data Dictionary\n",
    "The data dictionary is available in the link above under the `Available Data Types` in `Station Data Inventory, Access & History`. It will show that `TAVG`, `TMIN`, `TMAX` is average, minimum, and maximum temperature respectively.\n",
    "\n",
    "## Purpose\n",
    "The only columns I'll use for in weather data is average temperature, minimum temperature, maximum temperature, precipitation, and snow fall. I think these columns will be meaningful to see the correlation between crime rates in NYC and the variables."
   ]
  },
  {
   "cell_type": "code",
   "execution_count": 137,
   "id": "da8d4115",
   "metadata": {},
   "outputs": [],
   "source": [
    "from os.path import join\n",
    "\n",
    "import pandas as pd\n",
    "import plotly.graph_objects as go\n",
    "import plotly.io as pio\n",
    "import plotly.express as px\n",
    "from plotly.subplots import make_subplots\n",
    "\n",
    "from pyspark.sql.dataframe import DataFrame as PySparkDataFrame\n",
    "\n",
    "from pyspark import SparkConf\n",
    "from pyspark.sql import SparkSession\n",
    "from pyspark.sql.functions import (\n",
    "    count, \n",
    "    when, \n",
    "    lit,\n",
    "    isnan,\n",
    "    col,\n",
    "    concat_ws,\n",
    "    from_unixtime,\n",
    "    unix_timestamp,\n",
    "    to_timestamp,\n",
    "    year, \n",
    "    month,\n",
    "    dayofmonth,\n",
    "    hour\n",
    ")\n",
    "\n",
    "pio.renderers.default = \"iframe\""
   ]
  },
  {
   "cell_type": "code",
   "execution_count": 2,
   "id": "c2ed94b6",
   "metadata": {},
   "outputs": [],
   "source": [
    "def read_weather_data(fname: str=join(\"..\", \"data\", \"USW00094728.csv\")) -> pd.DataFrame:\n",
    "    df = pd.read_csv(fname, parse_dates=[\"DATE\"])\n",
    "    subset_df = df[[\"DATE\", \"TAVG\", \"TMAX\", \"TMIN\", \"PRCP\", \"SNOW\"]]\n",
    "    timerange = subset_df.query(\"DATE.between('2006-01-01', '2021-12-31')\")\n",
    "    return timerange.reset_index(drop=True)"
   ]
  },
  {
   "cell_type": "code",
   "execution_count": 3,
   "id": "3d94fd8c",
   "metadata": {
    "scrolled": false
   },
   "outputs": [
    {
     "data": {
      "text/html": [
       "<div>\n",
       "<style scoped>\n",
       "    .dataframe tbody tr th:only-of-type {\n",
       "        vertical-align: middle;\n",
       "    }\n",
       "\n",
       "    .dataframe tbody tr th {\n",
       "        vertical-align: top;\n",
       "    }\n",
       "\n",
       "    .dataframe thead th {\n",
       "        text-align: right;\n",
       "    }\n",
       "</style>\n",
       "<table border=\"1\" class=\"dataframe\">\n",
       "  <thead>\n",
       "    <tr style=\"text-align: right;\">\n",
       "      <th></th>\n",
       "      <th>DATE</th>\n",
       "      <th>TAVG</th>\n",
       "      <th>TMAX</th>\n",
       "      <th>TMIN</th>\n",
       "      <th>PRCP</th>\n",
       "      <th>SNOW</th>\n",
       "    </tr>\n",
       "  </thead>\n",
       "  <tbody>\n",
       "    <tr>\n",
       "      <th>0</th>\n",
       "      <td>2006-01-01</td>\n",
       "      <td>4.93</td>\n",
       "      <td>8.64</td>\n",
       "      <td>1.23</td>\n",
       "      <td>126.8</td>\n",
       "      <td>51.0</td>\n",
       "    </tr>\n",
       "    <tr>\n",
       "      <th>1</th>\n",
       "      <td>2006-02-01</td>\n",
       "      <td>2.07</td>\n",
       "      <td>5.78</td>\n",
       "      <td>-1.63</td>\n",
       "      <td>73.1</td>\n",
       "      <td>683.0</td>\n",
       "    </tr>\n",
       "    <tr>\n",
       "      <th>2</th>\n",
       "      <td>2006-03-01</td>\n",
       "      <td>6.15</td>\n",
       "      <td>10.33</td>\n",
       "      <td>1.98</td>\n",
       "      <td>20.3</td>\n",
       "      <td>33.0</td>\n",
       "    </tr>\n",
       "    <tr>\n",
       "      <th>3</th>\n",
       "      <td>2006-04-01</td>\n",
       "      <td>13.15</td>\n",
       "      <td>18.48</td>\n",
       "      <td>7.82</td>\n",
       "      <td>141.2</td>\n",
       "      <td>3.0</td>\n",
       "    </tr>\n",
       "    <tr>\n",
       "      <th>4</th>\n",
       "      <td>2006-05-01</td>\n",
       "      <td>17.27</td>\n",
       "      <td>21.97</td>\n",
       "      <td>12.57</td>\n",
       "      <td>117.5</td>\n",
       "      <td>0.0</td>\n",
       "    </tr>\n",
       "    <tr>\n",
       "      <th>...</th>\n",
       "      <td>...</td>\n",
       "      <td>...</td>\n",
       "      <td>...</td>\n",
       "      <td>...</td>\n",
       "      <td>...</td>\n",
       "      <td>...</td>\n",
       "    </tr>\n",
       "    <tr>\n",
       "      <th>187</th>\n",
       "      <td>2021-08-01</td>\n",
       "      <td>25.30</td>\n",
       "      <td>28.81</td>\n",
       "      <td>21.80</td>\n",
       "      <td>262.1</td>\n",
       "      <td>0.0</td>\n",
       "    </tr>\n",
       "    <tr>\n",
       "      <th>188</th>\n",
       "      <td>2021-09-01</td>\n",
       "      <td>21.27</td>\n",
       "      <td>24.79</td>\n",
       "      <td>17.76</td>\n",
       "      <td>254.8</td>\n",
       "      <td>0.0</td>\n",
       "    </tr>\n",
       "    <tr>\n",
       "      <th>189</th>\n",
       "      <td>2021-10-01</td>\n",
       "      <td>16.67</td>\n",
       "      <td>19.93</td>\n",
       "      <td>13.41</td>\n",
       "      <td>133.7</td>\n",
       "      <td>0.0</td>\n",
       "    </tr>\n",
       "    <tr>\n",
       "      <th>190</th>\n",
       "      <td>2021-11-01</td>\n",
       "      <td>7.91</td>\n",
       "      <td>11.54</td>\n",
       "      <td>4.29</td>\n",
       "      <td>28.6</td>\n",
       "      <td>0.0</td>\n",
       "    </tr>\n",
       "    <tr>\n",
       "      <th>191</th>\n",
       "      <td>2021-12-01</td>\n",
       "      <td>6.54</td>\n",
       "      <td>9.59</td>\n",
       "      <td>3.49</td>\n",
       "      <td>35.4</td>\n",
       "      <td>5.0</td>\n",
       "    </tr>\n",
       "  </tbody>\n",
       "</table>\n",
       "<p>192 rows × 6 columns</p>\n",
       "</div>"
      ],
      "text/plain": [
       "          DATE   TAVG   TMAX   TMIN   PRCP   SNOW\n",
       "0   2006-01-01   4.93   8.64   1.23  126.8   51.0\n",
       "1   2006-02-01   2.07   5.78  -1.63   73.1  683.0\n",
       "2   2006-03-01   6.15  10.33   1.98   20.3   33.0\n",
       "3   2006-04-01  13.15  18.48   7.82  141.2    3.0\n",
       "4   2006-05-01  17.27  21.97  12.57  117.5    0.0\n",
       "..         ...    ...    ...    ...    ...    ...\n",
       "187 2021-08-01  25.30  28.81  21.80  262.1    0.0\n",
       "188 2021-09-01  21.27  24.79  17.76  254.8    0.0\n",
       "189 2021-10-01  16.67  19.93  13.41  133.7    0.0\n",
       "190 2021-11-01   7.91  11.54   4.29   28.6    0.0\n",
       "191 2021-12-01   6.54   9.59   3.49   35.4    5.0\n",
       "\n",
       "[192 rows x 6 columns]"
      ]
     },
     "execution_count": 3,
     "metadata": {},
     "output_type": "execute_result"
    }
   ],
   "source": [
    "df = read_weather_data()\n",
    "df"
   ]
  },
  {
   "cell_type": "code",
   "execution_count": 4,
   "id": "57d2cf52",
   "metadata": {},
   "outputs": [
    {
     "name": "stdout",
     "output_type": "stream",
     "text": [
      "<class 'pandas.core.frame.DataFrame'>\n",
      "RangeIndex: 192 entries, 0 to 191\n",
      "Data columns (total 6 columns):\n",
      " #   Column  Non-Null Count  Dtype         \n",
      "---  ------  --------------  -----         \n",
      " 0   DATE    192 non-null    datetime64[ns]\n",
      " 1   TAVG    192 non-null    float64       \n",
      " 2   TMAX    192 non-null    float64       \n",
      " 3   TMIN    192 non-null    float64       \n",
      " 4   PRCP    192 non-null    float64       \n",
      " 5   SNOW    192 non-null    float64       \n",
      "dtypes: datetime64[ns](1), float64(5)\n",
      "memory usage: 9.1 KB\n"
     ]
    }
   ],
   "source": [
    "df.info()"
   ]
  },
  {
   "cell_type": "code",
   "execution_count": 5,
   "id": "e20348ed",
   "metadata": {},
   "outputs": [
    {
     "data": {
      "text/html": [
       "<div>\n",
       "<style scoped>\n",
       "    .dataframe tbody tr th:only-of-type {\n",
       "        vertical-align: middle;\n",
       "    }\n",
       "\n",
       "    .dataframe tbody tr th {\n",
       "        vertical-align: top;\n",
       "    }\n",
       "\n",
       "    .dataframe thead th {\n",
       "        text-align: right;\n",
       "    }\n",
       "</style>\n",
       "<table border=\"1\" class=\"dataframe\">\n",
       "  <thead>\n",
       "    <tr style=\"text-align: right;\">\n",
       "      <th></th>\n",
       "      <th>TAVG</th>\n",
       "      <th>TMAX</th>\n",
       "      <th>TMIN</th>\n",
       "      <th>PRCP</th>\n",
       "      <th>SNOW</th>\n",
       "    </tr>\n",
       "  </thead>\n",
       "  <tbody>\n",
       "    <tr>\n",
       "      <th>count</th>\n",
       "      <td>192.000000</td>\n",
       "      <td>192.000000</td>\n",
       "      <td>192.000000</td>\n",
       "      <td>192.000000</td>\n",
       "      <td>192.000000</td>\n",
       "    </tr>\n",
       "    <tr>\n",
       "      <th>mean</th>\n",
       "      <td>13.373802</td>\n",
       "      <td>17.307656</td>\n",
       "      <td>9.439583</td>\n",
       "      <td>111.375521</td>\n",
       "      <td>66.770833</td>\n",
       "    </tr>\n",
       "    <tr>\n",
       "      <th>std</th>\n",
       "      <td>8.664113</td>\n",
       "      <td>8.979786</td>\n",
       "      <td>8.384961</td>\n",
       "      <td>61.889651</td>\n",
       "      <td>161.756101</td>\n",
       "    </tr>\n",
       "    <tr>\n",
       "      <th>min</th>\n",
       "      <td>-4.410000</td>\n",
       "      <td>0.080000</td>\n",
       "      <td>-8.900000</td>\n",
       "      <td>9.200000</td>\n",
       "      <td>0.000000</td>\n",
       "    </tr>\n",
       "    <tr>\n",
       "      <th>25%</th>\n",
       "      <td>5.407500</td>\n",
       "      <td>9.287500</td>\n",
       "      <td>1.572500</td>\n",
       "      <td>71.000000</td>\n",
       "      <td>0.000000</td>\n",
       "    </tr>\n",
       "    <tr>\n",
       "      <th>50%</th>\n",
       "      <td>13.310000</td>\n",
       "      <td>17.595000</td>\n",
       "      <td>9.225000</td>\n",
       "      <td>102.750000</td>\n",
       "      <td>0.000000</td>\n",
       "    </tr>\n",
       "    <tr>\n",
       "      <th>75%</th>\n",
       "      <td>21.670000</td>\n",
       "      <td>25.862500</td>\n",
       "      <td>17.615000</td>\n",
       "      <td>138.675000</td>\n",
       "      <td>34.250000</td>\n",
       "    </tr>\n",
       "    <tr>\n",
       "      <th>max</th>\n",
       "      <td>27.410000</td>\n",
       "      <td>32.270000</td>\n",
       "      <td>22.970000</td>\n",
       "      <td>481.300000</td>\n",
       "      <td>937.000000</td>\n",
       "    </tr>\n",
       "  </tbody>\n",
       "</table>\n",
       "</div>"
      ],
      "text/plain": [
       "             TAVG        TMAX        TMIN        PRCP        SNOW\n",
       "count  192.000000  192.000000  192.000000  192.000000  192.000000\n",
       "mean    13.373802   17.307656    9.439583  111.375521   66.770833\n",
       "std      8.664113    8.979786    8.384961   61.889651  161.756101\n",
       "min     -4.410000    0.080000   -8.900000    9.200000    0.000000\n",
       "25%      5.407500    9.287500    1.572500   71.000000    0.000000\n",
       "50%     13.310000   17.595000    9.225000  102.750000    0.000000\n",
       "75%     21.670000   25.862500   17.615000  138.675000   34.250000\n",
       "max     27.410000   32.270000   22.970000  481.300000  937.000000"
      ]
     },
     "execution_count": 5,
     "metadata": {},
     "output_type": "execute_result"
    }
   ],
   "source": [
    "df.describe()"
   ]
  },
  {
   "cell_type": "code",
   "execution_count": 6,
   "id": "15803717",
   "metadata": {},
   "outputs": [
    {
     "data": {
      "text/plain": [
       "DATE    False\n",
       "TAVG    False\n",
       "TMAX    False\n",
       "TMIN    False\n",
       "PRCP    False\n",
       "SNOW    False\n",
       "dtype: bool"
      ]
     },
     "execution_count": 6,
     "metadata": {},
     "output_type": "execute_result"
    }
   ],
   "source": [
    "df.isna().any()"
   ]
  },
  {
   "cell_type": "markdown",
   "id": "f1d585c6",
   "metadata": {},
   "source": [
    "## Crime Data"
   ]
  },
  {
   "cell_type": "code",
   "execution_count": null,
   "id": "218a5377",
   "metadata": {},
   "outputs": [],
   "source": [
    "def initializeSpark() -> SparkSession:\n",
    "    \"\"\"Create a Spark Session for Streamlit app\"\"\"\n",
    "    conf = SparkConf().setAppName(\"crime-processor\").setMaster(\"local\")\n",
    "    spark = SparkSession.builder.config(conf=conf).getOrCreate()\n",
    "    return spark, spark.sparkContext"
   ]
  },
  {
   "cell_type": "code",
   "execution_count": null,
   "id": "397a6381",
   "metadata": {},
   "outputs": [],
   "source": [
    "def getCrimesPerMonth(sdf: PySparkDataFrame) -> pd.DataFrame:\n",
    "    crimeTimes = sdf\\\n",
    "    .select(\n",
    "        year(\"CMPLNT_FR\").alias(\"CMPLNT_FR_YEAR\"),\n",
    "        month(\"CMPLNT_FR\").alias(\"CMPLNT_FR_MONTH\"),\n",
    "        dayofmonth(\"CMPLNT_FR\").alias(\"CMPLNT_FR_DAY\"),\n",
    "        hour(\"CMPLNT_FR\").alias(\"CMPLNT_FR_HOUR\")\n",
    "    ).cache()\n",
    "    \n",
    "    crimesPerMonth = crimeTimes\\\n",
    "        .groupBy([\"CMPLNT_FR_YEAR\", \"CMPLNT_FR_MONTH\"])\\\n",
    "        .count()\\\n",
    "        .sort([col(\"CMPLNT_FR_YEAR\"), col(\"CMPLNT_FR_MONTH\")])\\\n",
    "        .toPandas()\n",
    "    \n",
    "    crimesPerMonth[\"Date\"] = crimesPerMonth.CMPLNT_FR_MONTH.map(str) + \"/\" + crimesPerMonth.CMPLNT_FR_YEAR.map(str)\n",
    "    crimesPerMonth.Date = pd.to_datetime(crimesPerMonth.Date)\n",
    "    crimesPerMonth.set_index(\"Date\", inplace=True)\n",
    "    crimesPerMonth.drop(columns=[\"CMPLNT_FR_YEAR\", \"CMPLNT_FR_MONTH\"], inplace=True)\n",
    "    return crimesPerMonth"
   ]
  },
  {
   "cell_type": "code",
   "execution_count": null,
   "id": "8372aba8",
   "metadata": {},
   "outputs": [],
   "source": [
    "spark, _ = initializeSpark()"
   ]
  },
  {
   "cell_type": "code",
   "execution_count": null,
   "id": "87a1d44e",
   "metadata": {},
   "outputs": [],
   "source": [
    "processedSDF = spark.read.load(path=join(\"..\", \"data\", \"NYPD_Complaint_Data_Historic.parquet\"), format=\"parquet\")\n",
    "processedSDF.limit(5).toPandas()"
   ]
  },
  {
   "cell_type": "code",
   "execution_count": null,
   "id": "b8235d95",
   "metadata": {},
   "outputs": [],
   "source": [
    "crimesPerMonth = getCrimesPerMonth(sdf=processedSDF)"
   ]
  },
  {
   "cell_type": "markdown",
   "id": "de624d74",
   "metadata": {},
   "source": [
    "## Compare Crime Rate and Temperature"
   ]
  },
  {
   "cell_type": "code",
   "execution_count": 150,
   "id": "9e8a6d8b",
   "metadata": {
    "scrolled": false
   },
   "outputs": [],
   "source": [
    "def compareCrimeRateAndTemperature(weatherData: pd.DataFrame, crimeData: pd.DataFrame):\n",
    "    fig = make_subplots(\n",
    "        rows=2, \n",
    "        cols=1,\n",
    "        subplot_titles=(\"Temperature\", \"Crime Rate\"),\n",
    "        shared_xaxes=True\n",
    "    )\n",
    "\n",
    "    average_temperature = go.Scatter(\n",
    "        x=weatherData.DATE,\n",
    "        y=weatherData.TAVG,\n",
    "        hovertemplate=\"<i>Date</i>: %{x}\"\n",
    "              \"<br><i>Temperature</i>: %{y}°C<br>\"\n",
    "              \"<extra></extra>\",\n",
    "        mode=\"lines\",\n",
    "        name=\"Average Temperature\"\n",
    "    )\n",
    "\n",
    "\n",
    "    monthlyCrime = go.Scatter(\n",
    "        x=crimeData.index,\n",
    "        y=crimeData[\"count\"],\n",
    "        hovertemplate=\"<i>Date</i>: %{x}\"\n",
    "          \"<br><i>Count</i>: %{y}<br>\"\n",
    "          \"<extra></extra>\",\n",
    "        mode=\"lines\",\n",
    "        name=\"Monthly Crime Rates\"\n",
    "    )\n",
    "\n",
    "    fig.add_trace(average_temperature, row=1, col=1)\n",
    "    fig.add_trace(monthlyCrime, row=2, col=1)\n",
    "\n",
    "\n",
    "    # Update xaxis properties\n",
    "    fig.update_xaxes(title_text=\"Month\", row=2, col=1)\n",
    "\n",
    "    # Update yaxis properties\n",
    "    fig.update_yaxes(title_text=\"Temperature (°C)\", row=1, col=1)\n",
    "    fig.update_yaxes(title_text=\"Count\", row=2, col=1)\n",
    "\n",
    "    fig.update_layout(\n",
    "        title=\"Temperature and Crime Rates from 2006-2021\",\n",
    "    )\n",
    "    return fig"
   ]
  },
  {
   "cell_type": "code",
   "execution_count": 151,
   "id": "97d8bc4b",
   "metadata": {},
   "outputs": [
    {
     "data": {
      "text/html": [
       "<iframe\n",
       "    scrolling=\"no\"\n",
       "    width=\"100%\"\n",
       "    height=\"545px\"\n",
       "    src=\"iframe_figures/figure_151.html\"\n",
       "    frameborder=\"0\"\n",
       "    allowfullscreen\n",
       "></iframe>\n"
      ]
     },
     "metadata": {},
     "output_type": "display_data"
    }
   ],
   "source": [
    "compareCrimeRateAndTemperature(weatherData=df, crimeData=crimesPerMonth)"
   ]
  },
  {
   "cell_type": "markdown",
   "id": "7037212f",
   "metadata": {},
   "source": [
    "Here we see seasionality that it's hotter in the summer months (June, July, August) and colder in the winter months (December, January, February)"
   ]
  },
  {
   "cell_type": "markdown",
   "id": "ec0f3e3d",
   "metadata": {},
   "source": [
    "## Weather Affects Crime Rates?"
   ]
  },
  {
   "cell_type": "markdown",
   "id": "5df969e5",
   "metadata": {},
   "source": [
    "## How Does Temperature Affect Crime Rates?\n",
    "* How strong is the correlation? Inside vs Outside?\n",
    "* Which type of crimes are most affected by temeprature?"
   ]
  },
  {
   "cell_type": "markdown",
   "id": "7797bbc5",
   "metadata": {},
   "source": [
    "We see that temperature is a poor indicator of crime rates. The r-squared value, which ranges from 0 to 1, is 0.28. This indicates that the linear regression model poorly fits the data. Perhaps we should change the scope from finding the correlation of temperature and crime rates to finding correlation of temperature and crimes that have occurred outside. "
   ]
  },
  {
   "cell_type": "code",
   "execution_count": 36,
   "id": "f7220e7c",
   "metadata": {},
   "outputs": [
    {
     "data": {
      "text/html": [
       "<iframe\n",
       "    scrolling=\"no\"\n",
       "    width=\"100%\"\n",
       "    height=\"545px\"\n",
       "    src=\"iframe_figures/figure_36.html\"\n",
       "    frameborder=\"0\"\n",
       "    allowfullscreen\n",
       "></iframe>\n"
      ]
     },
     "metadata": {},
     "output_type": "display_data"
    }
   ],
   "source": [
    "fig = px.scatter(\n",
    "    x=df.TAVG, \n",
    "    y=crimesPerMonth[\"count\"],\n",
    "    trendline=\"ols\",\n",
    "    title=\"Crimes per Month vs. Temperature\",\n",
    ")\n",
    "\n",
    "fig.update_layout(\n",
    "    xaxis_title=\"Temperature (°C)\",\n",
    "    yaxis_title=\"Crime Rate\",\n",
    ")\n",
    "fig"
   ]
  },
  {
   "cell_type": "code",
   "execution_count": 43,
   "id": "7453354c",
   "metadata": {},
   "outputs": [
    {
     "data": {
      "text/html": [
       "<iframe\n",
       "    scrolling=\"no\"\n",
       "    width=\"100%\"\n",
       "    height=\"545px\"\n",
       "    src=\"iframe_figures/figure_43.html\"\n",
       "    frameborder=\"0\"\n",
       "    allowfullscreen\n",
       "></iframe>\n"
      ]
     },
     "metadata": {},
     "output_type": "display_data"
    }
   ],
   "source": [
    "fig = px.scatter(\n",
    "    x=df.TAVG, \n",
    "    y=crimesPerMonth[\"count\"],\n",
    "    trendline=\"ols\",\n",
    "    title=\"Crimes per Month vs. Temperature\",\n",
    ")\n",
    "\n",
    "fig.update_layout(\n",
    "    xaxis_title=\"Temperature (°C)\",\n",
    "    yaxis_title=\"Crime Rate\",\n",
    ")\n",
    "fig"
   ]
  },
  {
   "cell_type": "code",
   "execution_count": 41,
   "id": "1b3bbe61",
   "metadata": {},
   "outputs": [
    {
     "name": "stderr",
     "output_type": "stream",
     "text": [
      "\r",
      "[Stage 34:===================>                                      (1 + 1) / 3]\r"
     ]
    },
    {
     "name": "stdout",
     "output_type": "stream",
     "text": [
      "+-----------------+\n",
      "|LOC_OF_OCCUR_DESC|\n",
      "+-----------------+\n",
      "|      OPPOSITE OF|\n",
      "|          REAR OF|\n",
      "|             null|\n",
      "|           INSIDE|\n",
      "|         FRONT OF|\n",
      "+-----------------+\n",
      "\n"
     ]
    },
    {
     "name": "stderr",
     "output_type": "stream",
     "text": [
      "\r",
      "                                                                                \r"
     ]
    }
   ],
   "source": [
    "processedSDF.select(\"LOC_OF_OCCUR_DESC\").distinct().show()\n",
    "    "
   ]
  },
  {
   "cell_type": "code",
   "execution_count": 90,
   "id": "ff7889dd",
   "metadata": {},
   "outputs": [
    {
     "name": "stderr",
     "output_type": "stream",
     "text": [
      "\r",
      "[Stage 98:======================================>                   (2 + 1) / 3]\r",
      "\r",
      "                                                                                \r"
     ]
    }
   ],
   "source": [
    "crimes = processedSDF\\\n",
    ".filter((col(\"LOC_OF_OCCUR_DESC\") != \"INSIDE\"))\\\n",
    ".select(\"OFNS_DESC\").distinct().toPandas()"
   ]
  },
  {
   "cell_type": "code",
   "execution_count": 63,
   "id": "a8bb5a8b",
   "metadata": {},
   "outputs": [
    {
     "name": "stderr",
     "output_type": "stream",
     "text": [
      "                                                                                \r"
     ]
    }
   ],
   "source": [
    "places = processedSDF\\\n",
    ".filter((col(\"LOC_OF_OCCUR_DESC\") != \"INSIDE\") | (col(\"LOC_OF_OCCUR_DESC\").isNotNull()))\\\n",
    ".select(\"PREM_TYP_DESC\").distinct().toPandas()"
   ]
  },
  {
   "cell_type": "code",
   "execution_count": 70,
   "id": "93930ee2",
   "metadata": {},
   "outputs": [
    {
     "name": "stderr",
     "output_type": "stream",
     "text": [
      "                                                                                \r"
     ]
    }
   ],
   "source": [
    "insideCrimes = processedSDF\\\n",
    "    .select(\n",
    "        \"LOC_OF_OCCUR_DESC\",\n",
    "        year(\"CMPLNT_FR\").alias(\"CMPLNT_FR_YEAR\"),\n",
    "        month(\"CMPLNT_FR\").alias(\"CMPLNT_FR_MONTH\"),\n",
    "    )\\\n",
    "    .filter((col(\"LOC_OF_OCCUR_DESC\") != \"INSIDE\"))\\\n",
    "    .groupBy([\"CMPLNT_FR_YEAR\", \"CMPLNT_FR_MONTH\"])\\\n",
    "    .count()\\\n",
    "    .sort([col(\"CMPLNT_FR_YEAR\"), col(\"CMPLNT_FR_MONTH\")])\\\n",
    "    .toPandas()"
   ]
  },
  {
   "cell_type": "code",
   "execution_count": 71,
   "id": "4116bb73",
   "metadata": {},
   "outputs": [],
   "source": [
    "insideCrimes[\"Date\"] = insideCrimes.CMPLNT_FR_MONTH.map(str) + \"/\" + insideCrimes.CMPLNT_FR_YEAR.map(str)\n",
    "insideCrimes.Date = pd.to_datetime(insideCrimes.Date)\n",
    "insideCrimes.set_index(\"Date\", inplace=True)\n",
    "insideCrimes.drop(columns=[\"CMPLNT_FR_YEAR\", \"CMPLNT_FR_MONTH\"], inplace=True)"
   ]
  },
  {
   "cell_type": "code",
   "execution_count": 72,
   "id": "6d915365",
   "metadata": {},
   "outputs": [
    {
     "data": {
      "text/html": [
       "<iframe\n",
       "    scrolling=\"no\"\n",
       "    width=\"100%\"\n",
       "    height=\"545px\"\n",
       "    src=\"iframe_figures/figure_72.html\"\n",
       "    frameborder=\"0\"\n",
       "    allowfullscreen\n",
       "></iframe>\n"
      ]
     },
     "metadata": {},
     "output_type": "display_data"
    }
   ],
   "source": [
    "fig = px.scatter(\n",
    "    x=df.TAVG, \n",
    "    y=insideCrimes[\"count\"],\n",
    "    trendline=\"ols\",\n",
    "    title=\"Crimes per Month vs. Temperature\",\n",
    ")\n",
    "\n",
    "fig.update_layout(\n",
    "    xaxis_title=\"Temperature (°C)\",\n",
    "    yaxis_title=\"Crime Rate\",\n",
    ")\n",
    "fig"
   ]
  },
  {
   "cell_type": "code",
   "execution_count": 73,
   "id": "540b268f",
   "metadata": {},
   "outputs": [],
   "source": [
    "import statsmodels.formula.api as smf\n"
   ]
  },
  {
   "cell_type": "code",
   "execution_count": 78,
   "id": "bc6fd855",
   "metadata": {},
   "outputs": [
    {
     "data": {
      "text/html": [
       "<div>\n",
       "<style scoped>\n",
       "    .dataframe tbody tr th:only-of-type {\n",
       "        vertical-align: middle;\n",
       "    }\n",
       "\n",
       "    .dataframe tbody tr th {\n",
       "        vertical-align: top;\n",
       "    }\n",
       "\n",
       "    .dataframe thead th {\n",
       "        text-align: right;\n",
       "    }\n",
       "</style>\n",
       "<table border=\"1\" class=\"dataframe\">\n",
       "  <thead>\n",
       "    <tr style=\"text-align: right;\">\n",
       "      <th></th>\n",
       "      <th>TAVG</th>\n",
       "      <th>TMAX</th>\n",
       "      <th>TMIN</th>\n",
       "      <th>PRCP</th>\n",
       "      <th>SNOW</th>\n",
       "    </tr>\n",
       "    <tr>\n",
       "      <th>Date</th>\n",
       "      <th></th>\n",
       "      <th></th>\n",
       "      <th></th>\n",
       "      <th></th>\n",
       "      <th></th>\n",
       "    </tr>\n",
       "  </thead>\n",
       "  <tbody>\n",
       "    <tr>\n",
       "      <th>2006-01-01</th>\n",
       "      <td>4.93</td>\n",
       "      <td>8.64</td>\n",
       "      <td>1.23</td>\n",
       "      <td>126.8</td>\n",
       "      <td>51.0</td>\n",
       "    </tr>\n",
       "    <tr>\n",
       "      <th>2006-02-01</th>\n",
       "      <td>2.07</td>\n",
       "      <td>5.78</td>\n",
       "      <td>-1.63</td>\n",
       "      <td>73.1</td>\n",
       "      <td>683.0</td>\n",
       "    </tr>\n",
       "    <tr>\n",
       "      <th>2006-03-01</th>\n",
       "      <td>6.15</td>\n",
       "      <td>10.33</td>\n",
       "      <td>1.98</td>\n",
       "      <td>20.3</td>\n",
       "      <td>33.0</td>\n",
       "    </tr>\n",
       "    <tr>\n",
       "      <th>2006-04-01</th>\n",
       "      <td>13.15</td>\n",
       "      <td>18.48</td>\n",
       "      <td>7.82</td>\n",
       "      <td>141.2</td>\n",
       "      <td>3.0</td>\n",
       "    </tr>\n",
       "    <tr>\n",
       "      <th>2006-05-01</th>\n",
       "      <td>17.27</td>\n",
       "      <td>21.97</td>\n",
       "      <td>12.57</td>\n",
       "      <td>117.5</td>\n",
       "      <td>0.0</td>\n",
       "    </tr>\n",
       "    <tr>\n",
       "      <th>...</th>\n",
       "      <td>...</td>\n",
       "      <td>...</td>\n",
       "      <td>...</td>\n",
       "      <td>...</td>\n",
       "      <td>...</td>\n",
       "    </tr>\n",
       "    <tr>\n",
       "      <th>2021-08-01</th>\n",
       "      <td>25.30</td>\n",
       "      <td>28.81</td>\n",
       "      <td>21.80</td>\n",
       "      <td>262.1</td>\n",
       "      <td>0.0</td>\n",
       "    </tr>\n",
       "    <tr>\n",
       "      <th>2021-09-01</th>\n",
       "      <td>21.27</td>\n",
       "      <td>24.79</td>\n",
       "      <td>17.76</td>\n",
       "      <td>254.8</td>\n",
       "      <td>0.0</td>\n",
       "    </tr>\n",
       "    <tr>\n",
       "      <th>2021-10-01</th>\n",
       "      <td>16.67</td>\n",
       "      <td>19.93</td>\n",
       "      <td>13.41</td>\n",
       "      <td>133.7</td>\n",
       "      <td>0.0</td>\n",
       "    </tr>\n",
       "    <tr>\n",
       "      <th>2021-11-01</th>\n",
       "      <td>7.91</td>\n",
       "      <td>11.54</td>\n",
       "      <td>4.29</td>\n",
       "      <td>28.6</td>\n",
       "      <td>0.0</td>\n",
       "    </tr>\n",
       "    <tr>\n",
       "      <th>2021-12-01</th>\n",
       "      <td>6.54</td>\n",
       "      <td>9.59</td>\n",
       "      <td>3.49</td>\n",
       "      <td>35.4</td>\n",
       "      <td>5.0</td>\n",
       "    </tr>\n",
       "  </tbody>\n",
       "</table>\n",
       "<p>192 rows × 5 columns</p>\n",
       "</div>"
      ],
      "text/plain": [
       "             TAVG   TMAX   TMIN   PRCP   SNOW\n",
       "Date                                         \n",
       "2006-01-01   4.93   8.64   1.23  126.8   51.0\n",
       "2006-02-01   2.07   5.78  -1.63   73.1  683.0\n",
       "2006-03-01   6.15  10.33   1.98   20.3   33.0\n",
       "2006-04-01  13.15  18.48   7.82  141.2    3.0\n",
       "2006-05-01  17.27  21.97  12.57  117.5    0.0\n",
       "...           ...    ...    ...    ...    ...\n",
       "2021-08-01  25.30  28.81  21.80  262.1    0.0\n",
       "2021-09-01  21.27  24.79  17.76  254.8    0.0\n",
       "2021-10-01  16.67  19.93  13.41  133.7    0.0\n",
       "2021-11-01   7.91  11.54   4.29   28.6    0.0\n",
       "2021-12-01   6.54   9.59   3.49   35.4    5.0\n",
       "\n",
       "[192 rows x 5 columns]"
      ]
     },
     "execution_count": 78,
     "metadata": {},
     "output_type": "execute_result"
    }
   ],
   "source": [
    "df.rename(columns={\"DATE\": \"Date\"}).set_index(\"Date\")"
   ]
  },
  {
   "cell_type": "code",
   "execution_count": 129,
   "id": "ac8c7641",
   "metadata": {
    "scrolled": true
   },
   "outputs": [
    {
     "name": "stdout",
     "output_type": "stream",
     "text": [
      "23/03/07 15:06:08 WARN CacheManager: Asked to cache already cached data.\n",
      "OFFENSES AGAINST PUBLIC ORDER/ADMINISTRATION\n"
     ]
    },
    {
     "name": "stderr",
     "output_type": "stream",
     "text": [
      "                                                                                \r"
     ]
    },
    {
     "name": "stdout",
     "output_type": "stream",
     "text": [
      "OTHER TRAFFIC INFRACTION\n",
      "ANTICIPATORY OFFENSES\n",
      "FELONY SEX CRIMES\n",
      "NEW YORK CITY HEALTH CODE\n",
      "VEHICLE AND TRAFFIC LAWS\n",
      "KIDNAPPING & RELATED OFFENSES\n",
      "HOMICIDE-NEGLIGENT-VEHICLE\n",
      "PETIT LARCENY OF MOTOR VEHICLE\n",
      "FELONY ASSAULT\n",
      "ALCOHOLIC BEVERAGE CONTROL LAW\n",
      "OFFENSES RELATED TO CHILDREN\n",
      "THEFT-FRAUD\n",
      "THEFT OF SERVICES\n",
      "JOSTLING\n",
      "MISCELLANEOUS PENAL LAW\n",
      "CRIMINAL MISCHIEF\n",
      "ARSON\n",
      "OFFENSES AGAINST THE PERSON\n",
      "GAMBLING\n",
      "ENDANGERING WELFARE OF INCOMPETENT\n",
      "SEX CRIMES\n",
      "CRIMINAL TRESPASS\n",
      "BURGLAR'S TOOLS\n",
      "NYS LAWS-UNCLASSIFIED VIOLATION\n",
      "CHILD ABANDONMENT/NON SUPPORT\n",
      "OFFENSES INVOLVING FRAUD\n",
      "INTOXICATED/IMPAIRED DRIVING\n",
      "HOMICIDE-NEGLIGENT\n",
      "LOITERING/DEVIATE SEX\n",
      "INTOXICATED & IMPAIRED DRIVING\n",
      "ESCAPE\n",
      "AGRICULTURE & MARKETS LAW\n",
      "FRAUDS\n",
      "FORTUNE TELLING\n",
      "NYS LAWS-UNCLASSIFIED FELONY\n",
      "UNLAWFUL POSSESSION OF WEAPON ON SCHOOL\n",
      "DANGEROUS DRUGS\n",
      "PROSTITUTION & RELATED OFFENSES\n",
      "ASSAULT & RELATED OFFENSES\n",
      "FORGERY\n",
      "FRAUDULENT ACCOSTING\n",
      "OTHER OFFENSES RELATED TO THEFT\n",
      "LOITERING\n",
      "ROBBERY\n",
      "GRAND LARCENY OF MOTOR VEHICLE\n",
      "DANGEROUS WEAPONS\n",
      "UNAUTHORIZED USE OF A VEHICLE\n",
      "OTHER STATE LAWS (NON PENAL LAW)\n",
      "OTHER STATE LAWS\n",
      "PETIT LARCENY\n",
      "RAPE\n",
      "DISORDERLY CONDUCT\n",
      "OFFENSES AGAINST PUBLIC SAFETY\n",
      "DISRUPTION OF A RELIGIOUS SERVICE\n",
      "POSSESSION OF STOLEN PROPERTY\n",
      "LOITERING FOR DRUG PURPOSES\n",
      "OFFENSES AGAINST PUBLIC ADMINISTRATION\n",
      "HARRASSMENT\n",
      "GRAND LARCENY\n",
      "ADMINISTRATIVE CODES\n",
      "KIDNAPPING\n",
      "BURGLARY\n",
      "ADMINISTRATIVE CODE\n",
      "ABORTION\n",
      "UNDER THE INFLUENCE OF DRUGS\n",
      "KIDNAPPING AND RELATED OFFENSES\n"
     ]
    }
   ],
   "source": [
    "output = []\n",
    "selectColumns = processedSDF\\\n",
    "    .select(\n",
    "        \"OFNS_DESC\",\n",
    "        year(\"CMPLNT_FR\").alias(\"CMPLNT_FR_YEAR\"),\n",
    "        month(\"CMPLNT_FR\").alias(\"CMPLNT_FR_MONTH\"),\n",
    "    ).cache()\n",
    "\n",
    "for crime in crimes[\"OFNS_DESC\"]:\n",
    "    print(crime)\n",
    "    crimeSpecific = selectColumns\\\n",
    "    .filter((col(\"LOC_OF_OCCUR_DESC\") != \"INSIDE\") & (col(\"OFNS_DESC\") == crime))\\\n",
    "    .groupBy([\"CMPLNT_FR_YEAR\", \"CMPLNT_FR_MONTH\"])\\\n",
    "    .count()\\\n",
    "    .sort([col(\"CMPLNT_FR_YEAR\"), col(\"CMPLNT_FR_MONTH\")])\\\n",
    "    .toPandas()\n",
    "    \n",
    "    crimeSpecific[\"Date\"] = crimeSpecific.CMPLNT_FR_MONTH.map(str) + \"/\" + crimeSpecific.CMPLNT_FR_YEAR.map(str)\n",
    "    crimeSpecific.Date = pd.to_datetime(crimeSpecific.Date)\n",
    "    crimeSpecific.set_index(\"Date\", inplace=True)\n",
    "    crimeSpecific.drop(columns=[\"CMPLNT_FR_YEAR\", \"CMPLNT_FR_MONTH\"], inplace=True)\n",
    "    merged = crimeSpecific.merge(df.rename(columns={\"DATE\": \"Date\"}).set_index(\"Date\"), left_index=True, right_index=True)\n",
    "    ols = smf.ols(formula=\"TAVG ~ count\",data=merged)\n",
    "    model=ols.fit()\n",
    "    output.append((crime, model.rsquared))"
   ]
  },
  {
   "cell_type": "code",
   "execution_count": 130,
   "id": "253cef8a",
   "metadata": {
    "scrolled": true
   },
   "outputs": [
    {
     "data": {
      "text/plain": [
       "[('FELONY ASSAULT', 0.48253519643883436),\n",
       " ('ASSAULT & RELATED OFFENSES', 0.4650660193920091),\n",
       " ('PETIT LARCENY', 0.44064932157025616),\n",
       " ('OFFENSES AGAINST THE PERSON', 0.41374865862507637),\n",
       " ('GAMBLING', 0.3867934810164907),\n",
       " ('HARRASSMENT', 0.32310071670682594),\n",
       " ('CRIMINAL MISCHIEF', 0.23610076975893513),\n",
       " ('MISCELLANEOUS PENAL LAW', 0.21382361767327818),\n",
       " ('PETIT LARCENY OF MOTOR VEHICLE', 0.18222193403052367),\n",
       " ('UNAUTHORIZED USE OF A VEHICLE', 0.18166235065619774),\n",
       " ('OFFENSES AGAINST PUBLIC SAFETY', 0.17582010316032182),\n",
       " ('RAPE', 0.16358297076878547),\n",
       " ('GRAND LARCENY', 0.1553253079589657),\n",
       " ('OTHER TRAFFIC INFRACTION', 0.13830814727992946),\n",
       " ('SEX CRIMES', 0.12834574194751813),\n",
       " ('LOITERING/DEVIATE SEX', 0.11097295874372015),\n",
       " ('CRIMINAL TRESPASS', 0.10454097281253616),\n",
       " ('VEHICLE AND TRAFFIC LAWS', 0.10204362519981713),\n",
       " ('ADMINISTRATIVE CODE', 0.09933185160460578),\n",
       " ('GRAND LARCENY OF MOTOR VEHICLE', 0.0800475198725995),\n",
       " ('ADMINISTRATIVE CODES', 0.0703010382522532),\n",
       " ('THEFT-FRAUD', 0.05970575297949077),\n",
       " ('NYS LAWS-UNCLASSIFIED VIOLATION', 0.0580648535653705),\n",
       " ('KIDNAPPING', 0.05748772224309395),\n",
       " ('HOMICIDE-NEGLIGENT', 0.057326834029475804),\n",
       " ('OFFENSES AGAINST PUBLIC ADMINISTRATION', 0.05106375103911709),\n",
       " ('OTHER STATE LAWS', 0.047781522572210466),\n",
       " ('ANTICIPATORY OFFENSES', 0.04047646242652736),\n",
       " ('ROBBERY', 0.03956064632172118),\n",
       " ('FORGERY', 0.031074700111681564),\n",
       " ('PROSTITUTION & RELATED OFFENSES', 0.030334890378526547),\n",
       " ('FELONY SEX CRIMES', 0.03031665307969611),\n",
       " ('BURGLARY', 0.029592166066991887),\n",
       " ('NEW YORK CITY HEALTH CODE', 0.028388520323582078),\n",
       " ('KIDNAPPING & RELATED OFFENSES', 0.027903569009253837),\n",
       " ('INTOXICATED/IMPAIRED DRIVING', 0.02165871513067652),\n",
       " (\"BURGLAR'S TOOLS\", 0.020946829757919283),\n",
       " ('CHILD ABANDONMENT/NON SUPPORT', 0.019033852895527725),\n",
       " ('INTOXICATED & IMPAIRED DRIVING', 0.018904505265491145),\n",
       " ('FRAUDS', 0.01799548327418754),\n",
       " ('ARSON', 0.01584581106000371),\n",
       " ('LOITERING', 0.014701730261188373),\n",
       " ('POSSESSION OF STOLEN PROPERTY', 0.014528801404035008),\n",
       " ('ENDANGERING WELFARE OF INCOMPETENT', 0.01388350239756242),\n",
       " ('ESCAPE', 0.013814466071877085),\n",
       " ('OTHER STATE LAWS (NON PENAL LAW)', 0.011434130522906982),\n",
       " ('UNLAWFUL POSSESSION OF WEAPON ON SCHOOL', 0.008603408029322246),\n",
       " ('JOSTLING', 0.0071564212393468996),\n",
       " ('FORTUNE TELLING', 0.006528252055255868),\n",
       " ('OFFENSES INVOLVING FRAUD', 0.006211818661954749),\n",
       " ('ALCOHOLIC BEVERAGE CONTROL LAW', 0.0060042322843115725),\n",
       " ('OFFENSES AGAINST PUBLIC ORDER/ADMINISTRATION', 0.005984831667040336),\n",
       " ('NYS LAWS-UNCLASSIFIED FELONY', 0.004026307421666986),\n",
       " ('OFFENSES RELATED TO CHILDREN', 0.003756350799517083),\n",
       " ('HOMICIDE-NEGLIGENT-VEHICLE', 0.0013136669856899097),\n",
       " ('LOITERING FOR DRUG PURPOSES', 0.001300665220267505),\n",
       " ('DISORDERLY CONDUCT', 0.0012874368344173437),\n",
       " ('AGRICULTURE & MARKETS LAW', 0.001207754385564308),\n",
       " ('DISRUPTION OF A RELIGIOUS SERVICE', 0.0007796645509191569),\n",
       " ('THEFT OF SERVICES', 0.0006895674249037809),\n",
       " ('DANGEROUS WEAPONS', 0.00036502983685515744),\n",
       " ('FRAUDULENT ACCOSTING', 0.00028081417414915766),\n",
       " ('DANGEROUS DRUGS', 0.0001341081540892075),\n",
       " ('OTHER OFFENSES RELATED TO THEFT', 0.0001171787369849131),\n",
       " ('KIDNAPPING AND RELATED OFFENSES', 1.1102230246251565e-16),\n",
       " ('ABORTION', 0.0),\n",
       " ('UNDER THE INFLUENCE OF DRUGS', 0.0)]"
      ]
     },
     "execution_count": 130,
     "metadata": {},
     "output_type": "execute_result"
    }
   ],
   "source": [
    "sorted(output, key=lambda x: x[1], reverse=True)"
   ]
  },
  {
   "cell_type": "code",
   "execution_count": 127,
   "id": "38c8282c",
   "metadata": {},
   "outputs": [
    {
     "name": "stderr",
     "output_type": "stream",
     "text": [
      "                                                                                \r"
     ]
    }
   ],
   "source": [
    "assaultDF = selectColumns\\\n",
    ".filter((col(\"LOC_OF_OCCUR_DESC\") != \"INSIDE\") & (col(\"OFNS_DESC\") == \"ASSAULT & RELATED OFFENSES\"))\\\n",
    ".groupBy([\"CMPLNT_FR_YEAR\", \"CMPLNT_FR_MONTH\"])\\\n",
    ".count()\\\n",
    ".sort([col(\"CMPLNT_FR_YEAR\"), col(\"CMPLNT_FR_MONTH\")])\\\n",
    ".toPandas()\n",
    "\n",
    "assaultDF[\"Date\"] = assaultDF.CMPLNT_FR_MONTH.map(str) + \"/\" + assaultDF.CMPLNT_FR_YEAR.map(str)\n",
    "assaultDF.Date = pd.to_datetime(assaultDF.Date)\n",
    "assaultDF.set_index(\"Date\", inplace=True)\n",
    "assaultDF.drop(columns=[\"CMPLNT_FR_YEAR\", \"CMPLNT_FR_MONTH\"], inplace=True)"
   ]
  },
  {
   "cell_type": "code",
   "execution_count": 128,
   "id": "3bb727f5",
   "metadata": {},
   "outputs": [
    {
     "data": {
      "text/html": [
       "<iframe\n",
       "    scrolling=\"no\"\n",
       "    width=\"100%\"\n",
       "    height=\"545px\"\n",
       "    src=\"iframe_figures/figure_128.html\"\n",
       "    frameborder=\"0\"\n",
       "    allowfullscreen\n",
       "></iframe>\n"
      ]
     },
     "metadata": {},
     "output_type": "display_data"
    }
   ],
   "source": [
    "fig = px.scatter(\n",
    "    x=df.TAVG, \n",
    "    y=assaultDF[\"count\"],\n",
    "    trendline=\"ols\",\n",
    "    title=\"Crimes per Month vs. Temperature\",\n",
    ")\n",
    "\n",
    "fig.update_layout(\n",
    "    xaxis_title=\"Temperature (°C)\",\n",
    "    yaxis_title=\"Crime Rate\",\n",
    ")\n",
    "fig"
   ]
  },
  {
   "cell_type": "code",
   "execution_count": null,
   "id": "9b7f3b9c",
   "metadata": {},
   "outputs": [],
   "source": [
    "assaultDF"
   ]
  }
 ],
 "metadata": {
  "kernelspec": {
   "display_name": "venv",
   "language": "python",
   "name": "venv"
  },
  "language_info": {
   "codemirror_mode": {
    "name": "ipython",
    "version": 3
   },
   "file_extension": ".py",
   "mimetype": "text/x-python",
   "name": "python",
   "nbconvert_exporter": "python",
   "pygments_lexer": "ipython3",
   "version": "3.9.12"
  }
 },
 "nbformat": 4,
 "nbformat_minor": 5
}
